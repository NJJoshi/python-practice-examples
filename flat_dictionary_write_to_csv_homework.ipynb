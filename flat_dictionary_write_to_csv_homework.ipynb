{
 "cells": [
  {
   "cell_type": "code",
   "execution_count": 3,
   "id": "a6af0089",
   "metadata": {},
   "outputs": [],
   "source": [
    "import requests\n",
    "import pandas as pd\n",
    "\n",
    "url = \"https://api.github.com/repos/pandas-dev/pandas/issues\"\n",
    "my_data = requests.get(url)\n",
    "data1 = my_data.json()\n",
    "data2 = []\n",
    "for i in range(len(data1)):\n",
    "    data2.append(data1[i]['user'])\n",
    "\n",
    "df2 = pd.DataFrame(data1, columns=['url', 'repository_url', 'labels_url'])\n",
    "df3 = pd.DataFrame(data2, columns=['login','id','node_id','avatar_url','gravatar_id','url','html_url','followers_url','following_url','gists_url','starred_url','subscriptions_url','organizations_url','repos_url','events_url','received_events_url','type','site_admin'])\n",
    "df = pd.concat([df2, df3], axis = 1)\n",
    "df.to_csv('my_res.csv')"
   ]
  },
  {
   "cell_type": "code",
   "execution_count": null,
   "id": "8e984b99",
   "metadata": {},
   "outputs": [],
   "source": []
  }
 ],
 "metadata": {
  "kernelspec": {
   "display_name": "Python 3 (ipykernel)",
   "language": "python",
   "name": "python3"
  },
  "language_info": {
   "codemirror_mode": {
    "name": "ipython",
    "version": 3
   },
   "file_extension": ".py",
   "mimetype": "text/x-python",
   "name": "python",
   "nbconvert_exporter": "python",
   "pygments_lexer": "ipython3",
   "version": "3.9.7"
  }
 },
 "nbformat": 4,
 "nbformat_minor": 5
}
