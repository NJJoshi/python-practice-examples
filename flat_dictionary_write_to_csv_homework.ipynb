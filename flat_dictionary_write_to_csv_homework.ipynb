{
 "cells": [
  {
   "cell_type": "code",
   "execution_count": null,
   "id": "a5423fa1",
   "metadata": {},
   "outputs": [],
   "source": [
    "import requests\n",
    "\n",
    "def flatting_json(data: dict) -> dict:\n",
    "  \n",
    "    new_data = dict()\n",
    "    for key, value in data.items():\n",
    "        if not isinstance(value, dict):\n",
    "            new_data[key] = value\n",
    "        else:\n",
    "            for k, v in value.items():\n",
    "                new_data[key + \"_\" + k] = v\n",
    "  \n",
    "    return new_data\n",
    "\n",
    "\n",
    "def main():\n",
    "    my_data = requests.get(url)\n",
    "    data1 = my_data.json()\n",
    "    res_data = []\n",
    "    for i in range(len(data1)):\n",
    "        res_data.append(flatting_json(data1[i]))\n",
    "    df2 = pd.DataFrame(res_data, columns=['url', 'repository_url', 'labels_url', 'user_login','user_id','user_node_id','user_avatar_url','user_gravatar_id','user_url','user_html_url','user_followers_url','user_following_url','user_gists_url','user_starred_url','user_subscriptions_url','user_organizations_url','user_repos_url','user_events_url','user_received_events_url','user_type','user_site_admin'])\n",
    "    df2.to_csv('new_json_res.csv')\n",
    "\n",
    "main()"
   ]
  }
 ],
 "metadata": {
  "kernelspec": {
   "display_name": "Python 3 (ipykernel)",
   "language": "python",
   "name": "python3"
  },
  "language_info": {
   "codemirror_mode": {
    "name": "ipython",
    "version": 3
   },
   "file_extension": ".py",
   "mimetype": "text/x-python",
   "name": "python",
   "nbconvert_exporter": "python",
   "pygments_lexer": "ipython3",
   "version": "3.9.7"
  }
 },
 "nbformat": 4,
 "nbformat_minor": 5
}
