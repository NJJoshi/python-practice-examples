{
 "cells": [
  {
   "cell_type": "code",
   "execution_count": 1,
   "id": "d60cfe5f",
   "metadata": {},
   "outputs": [],
   "source": [
    "import datetime"
   ]
  },
  {
   "cell_type": "code",
   "execution_count": 8,
   "id": "3a30a0bd",
   "metadata": {},
   "outputs": [
    {
     "name": "stdout",
     "output_type": "stream",
     "text": [
      "Date :2022-02-12 00:00:00\n"
     ]
    }
   ],
   "source": [
    "import datetime\n",
    "start_date = \"08/16/21\"\n",
    "date_1 = datetime.datetime.strptime(start_date, \"%m/%d/%y\")\n",
    "\n",
    "end_date = date_1 + datetime.timedelta(days=180)\n",
    "print (f'Date :{end_date}')"
   ]
  },
  {
   "cell_type": "code",
   "execution_count": null,
   "id": "49963126",
   "metadata": {},
   "outputs": [],
   "source": []
  }
 ],
 "metadata": {
  "kernelspec": {
   "display_name": "Python 3 (ipykernel)",
   "language": "python",
   "name": "python3"
  },
  "language_info": {
   "codemirror_mode": {
    "name": "ipython",
    "version": 3
   },
   "file_extension": ".py",
   "mimetype": "text/x-python",
   "name": "python",
   "nbconvert_exporter": "python",
   "pygments_lexer": "ipython3",
   "version": "3.9.7"
  }
 },
 "nbformat": 4,
 "nbformat_minor": 5
}
