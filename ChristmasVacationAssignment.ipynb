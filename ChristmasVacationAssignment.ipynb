{
 "cells": [
  {
   "cell_type": "code",
   "execution_count": 3,
   "id": "17ed556f",
   "metadata": {},
   "outputs": [
    {
     "name": "stdout",
     "output_type": "stream",
     "text": [
      "Please provide a string:Nirav Joshi!\n",
      "Length of string \" Nirav Joshi! \" is  12\n"
     ]
    }
   ],
   "source": [
    "##Assignment 1\n",
    "def print_length_of_string():\n",
    "    input_str = input('Please provide a string:')\n",
    "    count = 0\n",
    "    for ch in input_str:\n",
    "        count+=1\n",
    "    print('Length of string \"',input_str,'\" is ', count)\n",
    "\n",
    "print_length_of_string()"
   ]
  },
  {
   "cell_type": "code",
   "execution_count": 6,
   "id": "002a3a1d",
   "metadata": {},
   "outputs": [
    {
     "name": "stdout",
     "output_type": "stream",
     "text": [
      "Please provide input string:Nirav Joshi 21 @ 1986\n",
      "N  preset at index  0\n",
      "i  preset at index  1\n",
      "r  preset at index  2\n",
      "a  preset at index  3\n",
      "v  preset at index  4\n",
      "J  preset at index  6\n",
      "o  preset at index  7\n",
      "s  preset at index  8\n",
      "h  preset at index  9\n",
      "i  preset at index  10\n",
      "2  preset at index  12\n",
      "1  preset at index  13\n",
      "1  preset at index  17\n",
      "9  preset at index  18\n",
      "8  preset at index  19\n",
      "6  preset at index  20\n"
     ]
    }
   ],
   "source": [
    "#Assignment 2\n",
    "def print_primitive_indexes(val):\n",
    "    if len(val) == 0:\n",
    "        print('Please provide value')\n",
    "        return\n",
    "    for idx in range(0, len(val)):\n",
    "        if val[idx].isdigit() == True or val[idx].isalpha() == True:\n",
    "            print(val[idx], ' preset at index ', idx)\n",
    "\n",
    "input_str = input('Please provide input string:')\n",
    "print_primitive_indexes(input_str)"
   ]
  },
  {
   "cell_type": "code",
   "execution_count": 52,
   "id": "e192286f",
   "metadata": {},
   "outputs": [
    {
     "name": "stdout",
     "output_type": "stream",
     "text": [
      "Please enter how many key,value pairs you want for preparing nested dictionary:1\n",
      "Please enter 4 elements separated by white space where 1st is key, 2nd is sub dict key and 3,4 are list values:11 2 3 4\n",
      "Prepared input with default value is :  {'a': 1, 'b': 12.12, 'c': 'Nirav', 'd': True, 'e': (12, 3, 4, 5), 11: {2: [3, 4]}}\n",
      "Final list of values are  [1, 12.12, 'Nirav', True, (12, 3, 4, 5), [3, 4]]\n"
     ]
    }
   ],
   "source": [
    "## Assignment 3\n",
    "def get_list_of_values(input_str):\n",
    "    result_values_list = []\n",
    "    if len(input_str) == 0:\n",
    "        print('Please enter valid input')\n",
    "        return\n",
    "    if type(input_str) == dict:\n",
    "        for values in dict(input_str).values():\n",
    "            if type(values) == dict:\n",
    "                for element in dict(values).values():\n",
    "                    result_values_list.append(element)\n",
    "            else:\n",
    "                result_values_list.append(values)                \n",
    "    else:\n",
    "        print('Please provide dictionary as a input')\n",
    "        return\n",
    "    return result_values_list\n",
    "\n",
    "default_dict_input = {'a': 1, 'b': 12.12, 'c':'Nirav', 'd': True, 'e':(12,3,4,5)}\n",
    "dict_input = {}\n",
    "M=int(input('Please enter how many key,value pairs you want for preparing nested dictionary:'))\n",
    "for i in range(0,M):\n",
    "    x,y,t1,t2=map(int,input('Please enter 4 elements separated by white space where 1st is key, 2nd is sub dict key and 3,4 are list values:').split())\n",
    "    dict_input.setdefault(x, {})[y] = [t1,t2]\n",
    "default_dict_input.update(dict_input)\n",
    "print('Prepared input with default value is : ', default_dict_input)\n",
    "print('Final list of values are ', get_list_of_values(default_dict_input))"
   ]
  },
  {
   "cell_type": "code",
   "execution_count": 55,
   "id": "215a8927",
   "metadata": {},
   "outputs": [
    {
     "name": "stdout",
     "output_type": "stream",
     "text": [
      "Hello Nirav\n",
      "How are you ?\n"
     ]
    }
   ],
   "source": [
    "## Assignment 4\n",
    "def function1(x, y):\n",
    "  print (x, y)\n",
    "\n",
    "def function2(other, function, *args, **kwargs):\n",
    "  function(*args, **kwargs)\n",
    "  print(other)\n",
    "\n",
    "function2('How are you ?', function1, 'Hello', 'Nirav')"
   ]
  },
  {
   "cell_type": "code",
   "execution_count": 58,
   "id": "dbffefc4",
   "metadata": {},
   "outputs": [
    {
     "name": "stdout",
     "output_type": "stream",
     "text": [
      "[5, 50, 4, 40, 3, 30, 2, 20, 1, 0, 'Nirav', 'Joshi', True, (1, 2, 3), {'b', 'a'}, {'a': 1, 'b': 2}]\n"
     ]
    },
    {
     "data": {
      "text/plain": [
       "[5,\n",
       " 50,\n",
       " 4,\n",
       " 40,\n",
       " 3,\n",
       " 30,\n",
       " 2,\n",
       " 20,\n",
       " 1,\n",
       " 0,\n",
       " 'Nirav',\n",
       " 'Joshi',\n",
       " True,\n",
       " (1, 2, 3),\n",
       " {'a', 'b'},\n",
       " {'a': 1, 'b': 2}]"
      ]
     },
     "execution_count": 58,
     "metadata": {},
     "output_type": "execute_result"
    }
   ],
   "source": [
    "## Assignment 5\n",
    "# function definition\n",
    "def concateMultipleLits(*arguments):\n",
    "    result_list = []\n",
    "    for list_element in arguments:\n",
    "        if type(list_element) == list:\n",
    "            for element in list_element:\n",
    "                result_list.append(element)\n",
    "        else:\n",
    "            result_list.append(list_element)\n",
    "    print(result_list)\n",
    "    return result_list\n",
    "  \n",
    "# function call\n",
    "concateMultipleLits([5,50], [4,40], [3,30], [2,20], [1,0],['Nirav', 'Joshi'], [True, (1,2,3), {'a','b'}, {'a':1,'b':2}])"
   ]
  },
  {
   "cell_type": "code",
   "execution_count": 2,
   "id": "f5928286",
   "metadata": {},
   "outputs": [
    {
     "name": "stdout",
     "output_type": "stream",
     "text": [
      "5  present at index  0\n",
      "50  present at index  1\n",
      "4  present at index  2\n",
      "40  present at index  3\n",
      "3  present at index  4\n",
      "30  present at index  5\n",
      "2  present at index  6\n",
      "20  present at index  7\n",
      "1  present at index  8\n",
      "0  present at index  9\n",
      "Nirav  present at index  10\n",
      "Joshi  present at index  11\n",
      "True  present at index  12\n",
      "(1, 2, 3)  present at index  13\n",
      "{'b', 'a'}  present at index  14\n",
      "{'a': 1, 'b': 2}  present at index  15\n"
     ]
    },
    {
     "data": {
      "text/plain": [
       "[(0, 5),\n",
       " (1, 50),\n",
       " (2, 4),\n",
       " (3, 40),\n",
       " (4, 3),\n",
       " (5, 30),\n",
       " (6, 2),\n",
       " (7, 20),\n",
       " (8, 1),\n",
       " (9, 0),\n",
       " (10, 'Nirav'),\n",
       " (11, 'Joshi'),\n",
       " (12, True),\n",
       " (13, (1, 2, 3)),\n",
       " (14, {'a', 'b'}),\n",
       " (15, {'a': 1, 'b': 2})]"
      ]
     },
     "execution_count": 2,
     "metadata": {},
     "output_type": "execute_result"
    }
   ],
   "source": [
    "## Assignment 6\n",
    "def print_index_of_each_element(input_list):\n",
    "    result_value = []\n",
    "    if type(input_list) != list:\n",
    "        print('Please provide list as an argument')\n",
    "        return\n",
    "    else:\n",
    "        for idx in range(0, len(input_list)):\n",
    "            print(input_list[idx] , ' present at index ', idx)\n",
    "            result_value.append((idx,input_list[idx]))\n",
    "    return result_value\n",
    "list_values = [5, 50, 4, 40, 3, 30, 2, 20, 1, 0, 'Nirav', 'Joshi', True, (1, 2, 3), {'b', 'a'}, {'a': 1, 'b': 2}]\n",
    "print_index_of_each_element(list_values)"
   ]
  },
  {
   "cell_type": "code",
   "execution_count": 15,
   "id": "3f5eda7b",
   "metadata": {},
   "outputs": [
    {
     "name": "stdout",
     "output_type": "stream",
     "text": [
      "ChristmasVacationAssignment.ipynb\n",
      "DateTimeCalculationDemo.ipynb\n",
      "PythonCommandTryOuts.ipynb\n",
      "PythonPracticeSession.ipynb\n",
      "README.md\n",
      "Summation.ipynb\n",
      "SummationOfTwoNumbers.ipynb\n",
      "UserInputDemo.ipynb\n",
      "config\n",
      "description\n",
      "HEAD\n",
      "index\n",
      "packed-refs\n",
      "applypatch-msg.sample\n",
      "commit-msg.sample\n",
      "fsmonitor-watchman.sample\n",
      "post-update.sample\n",
      "pre-applypatch.sample\n",
      "pre-commit.sample\n",
      "pre-merge-commit.sample\n",
      "pre-push.sample\n",
      "pre-rebase.sample\n",
      "pre-receive.sample\n",
      "prepare-commit-msg.sample\n",
      "push-to-checkout.sample\n",
      "update.sample\n",
      "exclude\n",
      "HEAD\n",
      "main\n",
      "HEAD\n",
      "pack-ef54b236387f5f315d5824bc5efefa44d18a277b.idx\n",
      "pack-ef54b236387f5f315d5824bc5efefa44d18a277b.pack\n",
      "main\n",
      "HEAD\n",
      "ChristmasVacationAssignment-checkpoint.ipynb\n",
      "UserInputDemo-checkpoint.ipynb\n"
     ]
    }
   ],
   "source": [
    "## Assignment 7\n",
    "# import OS module\n",
    "import os\n",
    "import os.path\n",
    "\n",
    "# This is my path\n",
    "path=\"C://NJ//Learning//Python//python-practice-examples\"\n",
    " \n",
    "# to store files in a list\n",
    "list = []\n",
    " \n",
    "# dirs=directories\n",
    "for (root, dirs, file) in os.walk(path):\n",
    "    for f in file:\n",
    "        print(f)"
   ]
  },
  {
   "cell_type": "code",
   "execution_count": 6,
   "id": "fe3f538b",
   "metadata": {},
   "outputs": [
    {
     "ename": "AttributeError",
     "evalue": "module 'ntpath' has no attribute 'filename'",
     "output_type": "error",
     "traceback": [
      "\u001b[1;31m---------------------------------------------------------------------------\u001b[0m",
      "\u001b[1;31mAttributeError\u001b[0m                            Traceback (most recent call last)",
      "\u001b[1;32mC:\\Users\\NIRAVJ~1\\AppData\\Local\\Temp/ipykernel_2548/939383712.py\u001b[0m in \u001b[0;36m<module>\u001b[1;34m\u001b[0m\n\u001b[1;32m----> 1\u001b[1;33m \u001b[0mos\u001b[0m\u001b[1;33m.\u001b[0m\u001b[0mpath\u001b[0m\u001b[1;33m.\u001b[0m\u001b[0mfilename\u001b[0m\u001b[1;33m(\u001b[0m\u001b[0mos\u001b[0m\u001b[1;33m.\u001b[0m\u001b[0mpath\u001b[0m\u001b[1;33m.\u001b[0m\u001b[0mdirname\u001b[0m\u001b[1;33m(\u001b[0m\u001b[1;34m'C:\\\\NJ\\\\Learning\\\\Python\\\\python-practice-examples'\u001b[0m\u001b[1;33m)\u001b[0m\u001b[1;33m)\u001b[0m\u001b[1;33m\u001b[0m\u001b[1;33m\u001b[0m\u001b[0m\n\u001b[0m",
      "\u001b[1;31mAttributeError\u001b[0m: module 'ntpath' has no attribute 'filename'"
     ]
    }
   ],
   "source": []
  },
  {
   "cell_type": "code",
   "execution_count": null,
   "id": "8d291860",
   "metadata": {},
   "outputs": [],
   "source": []
  }
 ],
 "metadata": {
  "kernelspec": {
   "display_name": "Python 3 (ipykernel)",
   "language": "python",
   "name": "python3"
  },
  "language_info": {
   "codemirror_mode": {
    "name": "ipython",
    "version": 3
   },
   "file_extension": ".py",
   "mimetype": "text/x-python",
   "name": "python",
   "nbconvert_exporter": "python",
   "pygments_lexer": "ipython3",
   "version": "3.9.7"
  }
 },
 "nbformat": 4,
 "nbformat_minor": 5
}
