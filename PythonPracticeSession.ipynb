{
 "cells": [
  {
   "cell_type": "code",
   "execution_count": 1,
   "id": "456c8870",
   "metadata": {},
   "outputs": [],
   "source": [
    "s = 'Nirav'"
   ]
  },
  {
   "cell_type": "code",
   "execution_count": 2,
   "id": "a8518161",
   "metadata": {},
   "outputs": [
    {
     "data": {
      "text/plain": [
       "str"
      ]
     },
     "execution_count": 2,
     "metadata": {},
     "output_type": "execute_result"
    }
   ],
   "source": [
    "type(s)"
   ]
  },
  {
   "cell_type": "code",
   "execution_count": 3,
   "id": "7e532565",
   "metadata": {},
   "outputs": [
    {
     "data": {
      "text/plain": [
       "True"
      ]
     },
     "execution_count": 3,
     "metadata": {},
     "output_type": "execute_result"
    }
   ],
   "source": [
    "s.isalpha()"
   ]
  },
  {
   "cell_type": "code",
   "execution_count": 4,
   "id": "44109923",
   "metadata": {},
   "outputs": [
    {
     "data": {
      "text/plain": [
       "True"
      ]
     },
     "execution_count": 4,
     "metadata": {},
     "output_type": "execute_result"
    }
   ],
   "source": [
    "s.isascii()"
   ]
  },
  {
   "cell_type": "code",
   "execution_count": 5,
   "id": "a1e8a894",
   "metadata": {},
   "outputs": [
    {
     "data": {
      "text/plain": [
       "<function str.isalnum()>"
      ]
     },
     "execution_count": 5,
     "metadata": {},
     "output_type": "execute_result"
    }
   ],
   "source": [
    "s.isalnum"
   ]
  },
  {
   "cell_type": "code",
   "execution_count": 6,
   "id": "78cfce43",
   "metadata": {},
   "outputs": [
    {
     "data": {
      "text/plain": [
       "True"
      ]
     },
     "execution_count": 6,
     "metadata": {},
     "output_type": "execute_result"
    }
   ],
   "source": [
    "s.isalnum()"
   ]
  },
  {
   "cell_type": "code",
   "execution_count": 7,
   "id": "0947d58e",
   "metadata": {},
   "outputs": [
    {
     "data": {
      "text/plain": [
       "'N'"
      ]
     },
     "execution_count": 7,
     "metadata": {},
     "output_type": "execute_result"
    }
   ],
   "source": [
    "s[0]"
   ]
  },
  {
   "cell_type": "code",
   "execution_count": 8,
   "id": "610711c7",
   "metadata": {},
   "outputs": [
    {
     "name": "stdout",
     "output_type": "stream",
     "text": [
      "N\n",
      "i\n",
      "r\n",
      "a\n",
      "v\n"
     ]
    }
   ],
   "source": [
    "for my_str in s:\n",
    "    print(my_str)"
   ]
  },
  {
   "cell_type": "code",
   "execution_count": 9,
   "id": "11112738",
   "metadata": {},
   "outputs": [
    {
     "data": {
      "text/plain": [
       "'v'"
      ]
     },
     "execution_count": 9,
     "metadata": {},
     "output_type": "execute_result"
    }
   ],
   "source": [
    "s[-1]"
   ]
  },
  {
   "cell_type": "code",
   "execution_count": 10,
   "id": "0f124f93",
   "metadata": {},
   "outputs": [
    {
     "data": {
      "text/plain": [
       "'Nirav'"
      ]
     },
     "execution_count": 10,
     "metadata": {},
     "output_type": "execute_result"
    }
   ],
   "source": [
    "s[0:5]"
   ]
  },
  {
   "cell_type": "code",
   "execution_count": 11,
   "id": "82ce168f",
   "metadata": {},
   "outputs": [
    {
     "ename": "TypeError",
     "evalue": "count() takes at least 1 argument (0 given)",
     "output_type": "error",
     "traceback": [
      "\u001b[1;31m---------------------------------------------------------------------------\u001b[0m",
      "\u001b[1;31mTypeError\u001b[0m                                 Traceback (most recent call last)",
      "\u001b[1;32m~\\AppData\\Local\\Temp/ipykernel_14576/2214828068.py\u001b[0m in \u001b[0;36m<module>\u001b[1;34m\u001b[0m\n\u001b[1;32m----> 1\u001b[1;33m \u001b[0ms\u001b[0m\u001b[1;33m.\u001b[0m\u001b[0mcount\u001b[0m\u001b[1;33m(\u001b[0m\u001b[1;33m)\u001b[0m\u001b[1;33m\u001b[0m\u001b[1;33m\u001b[0m\u001b[0m\n\u001b[0m",
      "\u001b[1;31mTypeError\u001b[0m: count() takes at least 1 argument (0 given)"
     ]
    }
   ],
   "source": [
    "s.count()"
   ]
  },
  {
   "cell_type": "code",
   "execution_count": 12,
   "id": "facef1b0",
   "metadata": {},
   "outputs": [
    {
     "data": {
      "text/plain": [
       "1"
      ]
     },
     "execution_count": 12,
     "metadata": {},
     "output_type": "execute_result"
    }
   ],
   "source": [
    "s.count(s)"
   ]
  },
  {
   "cell_type": "code",
   "execution_count": 13,
   "id": "9a560826",
   "metadata": {},
   "outputs": [
    {
     "data": {
      "text/plain": [
       "0"
      ]
     },
     "execution_count": 13,
     "metadata": {},
     "output_type": "execute_result"
    }
   ],
   "source": [
    "s.count(s.lower())"
   ]
  },
  {
   "cell_type": "code",
   "execution_count": 14,
   "id": "3fdb8283",
   "metadata": {},
   "outputs": [
    {
     "data": {
      "text/plain": [
       "'nirav'"
      ]
     },
     "execution_count": 14,
     "metadata": {},
     "output_type": "execute_result"
    }
   ],
   "source": [
    "s.lower()"
   ]
  },
  {
   "cell_type": "code",
   "execution_count": 15,
   "id": "6bd4e570",
   "metadata": {},
   "outputs": [
    {
     "data": {
      "text/plain": [
       "'Nirav'"
      ]
     },
     "execution_count": 15,
     "metadata": {},
     "output_type": "execute_result"
    }
   ],
   "source": [
    "s[0:100]"
   ]
  },
  {
   "cell_type": "code",
   "execution_count": 16,
   "id": "f82afe5d",
   "metadata": {},
   "outputs": [
    {
     "data": {
      "text/plain": [
       "5"
      ]
     },
     "execution_count": 16,
     "metadata": {},
     "output_type": "execute_result"
    }
   ],
   "source": [
    "len(s)"
   ]
  },
  {
   "cell_type": "code",
   "execution_count": 17,
   "id": "26f96dc6",
   "metadata": {},
   "outputs": [
    {
     "data": {
      "text/plain": [
       "'Nirav'"
      ]
     },
     "execution_count": 17,
     "metadata": {},
     "output_type": "execute_result"
    }
   ],
   "source": [
    "s[0:len(s)]"
   ]
  },
  {
   "cell_type": "code",
   "execution_count": 18,
   "id": "a6349e12",
   "metadata": {},
   "outputs": [
    {
     "ename": "IndexError",
     "evalue": "string index out of range",
     "output_type": "error",
     "traceback": [
      "\u001b[1;31m---------------------------------------------------------------------------\u001b[0m",
      "\u001b[1;31mIndexError\u001b[0m                                Traceback (most recent call last)",
      "\u001b[1;32m~\\AppData\\Local\\Temp/ipykernel_14576/2361091832.py\u001b[0m in \u001b[0;36m<module>\u001b[1;34m\u001b[0m\n\u001b[1;32m----> 1\u001b[1;33m \u001b[0ms\u001b[0m\u001b[1;33m[\u001b[0m\u001b[1;33m-\u001b[0m\u001b[1;36m100\u001b[0m\u001b[1;33m]\u001b[0m\u001b[1;33m\u001b[0m\u001b[1;33m\u001b[0m\u001b[0m\n\u001b[0m",
      "\u001b[1;31mIndexError\u001b[0m: string index out of range"
     ]
    }
   ],
   "source": [
    "s[-100]"
   ]
  },
  {
   "cell_type": "code",
   "execution_count": 19,
   "id": "84f97753",
   "metadata": {},
   "outputs": [
    {
     "data": {
      "text/plain": [
       "''"
      ]
     },
     "execution_count": 19,
     "metadata": {},
     "output_type": "execute_result"
    }
   ],
   "source": [
    "s[-1:-4:1]"
   ]
  },
  {
   "cell_type": "code",
   "execution_count": 20,
   "id": "cf9cf76c",
   "metadata": {},
   "outputs": [
    {
     "data": {
      "text/plain": [
       "'Nira'"
      ]
     },
     "execution_count": 20,
     "metadata": {},
     "output_type": "execute_result"
    }
   ],
   "source": [
    "s[0:4:1]"
   ]
  },
  {
   "cell_type": "code",
   "execution_count": 21,
   "id": "91feed1c",
   "metadata": {},
   "outputs": [
    {
     "data": {
      "text/plain": [
       "'var'"
      ]
     },
     "execution_count": 21,
     "metadata": {},
     "output_type": "execute_result"
    }
   ],
   "source": [
    "s[-1:-4:-1]"
   ]
  },
  {
   "cell_type": "code",
   "execution_count": 22,
   "id": "09efd687",
   "metadata": {},
   "outputs": [
    {
     "data": {
      "text/plain": [
       "''"
      ]
     },
     "execution_count": 22,
     "metadata": {},
     "output_type": "execute_result"
    }
   ],
   "source": [
    "s[0:-4:-1]"
   ]
  },
  {
   "cell_type": "code",
   "execution_count": 23,
   "id": "89aef206",
   "metadata": {},
   "outputs": [
    {
     "data": {
      "text/plain": [
       "'N'"
      ]
     },
     "execution_count": 23,
     "metadata": {},
     "output_type": "execute_result"
    }
   ],
   "source": [
    "s[0:-14:-1]"
   ]
  },
  {
   "cell_type": "code",
   "execution_count": 24,
   "id": "47300687",
   "metadata": {},
   "outputs": [
    {
     "data": {
      "text/plain": [
       "'Nirav'"
      ]
     },
     "execution_count": 24,
     "metadata": {},
     "output_type": "execute_result"
    }
   ],
   "source": [
    "s[::]"
   ]
  },
  {
   "cell_type": "code",
   "execution_count": 25,
   "id": "18b55174",
   "metadata": {},
   "outputs": [
    {
     "data": {
      "text/plain": [
       "'Nirav'"
      ]
     },
     "execution_count": 25,
     "metadata": {},
     "output_type": "execute_result"
    }
   ],
   "source": [
    "s[:8]"
   ]
  },
  {
   "cell_type": "code",
   "execution_count": 26,
   "id": "bbaf7a19",
   "metadata": {},
   "outputs": [
    {
     "data": {
      "text/plain": [
       "'av'"
      ]
     },
     "execution_count": 26,
     "metadata": {},
     "output_type": "execute_result"
    }
   ],
   "source": [
    "s[-2:]"
   ]
  },
  {
   "cell_type": "code",
   "execution_count": 27,
   "id": "7dd46773",
   "metadata": {},
   "outputs": [
    {
     "data": {
      "text/plain": [
       "'a'"
      ]
     },
     "execution_count": 27,
     "metadata": {},
     "output_type": "execute_result"
    }
   ],
   "source": [
    "s[-2:-1]"
   ]
  },
  {
   "cell_type": "code",
   "execution_count": 28,
   "id": "9689efb2",
   "metadata": {},
   "outputs": [
    {
     "data": {
      "text/plain": [
       "'variN'"
      ]
     },
     "execution_count": 28,
     "metadata": {},
     "output_type": "execute_result"
    }
   ],
   "source": [
    "s[::-1]"
   ]
  },
  {
   "cell_type": "code",
   "execution_count": 29,
   "id": "dc5ca0ee",
   "metadata": {},
   "outputs": [
    {
     "data": {
      "text/plain": [
       "'variN'"
      ]
     },
     "execution_count": 29,
     "metadata": {},
     "output_type": "execute_result"
    }
   ],
   "source": [
    "s[-1::-1]"
   ]
  },
  {
   "cell_type": "code",
   "execution_count": 30,
   "id": "d6dd8300",
   "metadata": {},
   "outputs": [
    {
     "data": {
      "text/plain": [
       "'Nirav'"
      ]
     },
     "execution_count": 30,
     "metadata": {},
     "output_type": "execute_result"
    }
   ],
   "source": [
    "s[0::1]"
   ]
  },
  {
   "cell_type": "code",
   "execution_count": 31,
   "id": "8bd2cc46",
   "metadata": {},
   "outputs": [
    {
     "data": {
      "text/plain": [
       "True"
      ]
     },
     "execution_count": 31,
     "metadata": {},
     "output_type": "execute_result"
    }
   ],
   "source": [
    "s == s[0::1]"
   ]
  },
  {
   "cell_type": "code",
   "execution_count": 32,
   "id": "dc02169b",
   "metadata": {},
   "outputs": [],
   "source": [
    "s = 'i am working with ineuron'"
   ]
  },
  {
   "cell_type": "code",
   "execution_count": 33,
   "id": "851fe407",
   "metadata": {},
   "outputs": [
    {
     "data": {
      "text/plain": [
       "'i am working with ineuron'"
      ]
     },
     "execution_count": 33,
     "metadata": {},
     "output_type": "execute_result"
    }
   ],
   "source": [
    "s"
   ]
  },
  {
   "cell_type": "code",
   "execution_count": 35,
   "id": "42a75d7e",
   "metadata": {},
   "outputs": [
    {
     "data": {
      "text/plain": [
       "18"
      ]
     },
     "execution_count": 35,
     "metadata": {},
     "output_type": "execute_result"
    }
   ],
   "source": [
    "s.rfind('i')"
   ]
  },
  {
   "cell_type": "code",
   "execution_count": 36,
   "id": "7397b51c",
   "metadata": {},
   "outputs": [
    {
     "data": {
      "text/plain": [
       "0"
      ]
     },
     "execution_count": 36,
     "metadata": {},
     "output_type": "execute_result"
    }
   ],
   "source": [
    "s.find('i')"
   ]
  },
  {
   "cell_type": "code",
   "execution_count": 37,
   "id": "5e0cf2c2",
   "metadata": {},
   "outputs": [
    {
     "data": {
      "text/plain": [
       "4"
      ]
     },
     "execution_count": 37,
     "metadata": {},
     "output_type": "execute_result"
    }
   ],
   "source": [
    "s.count('i')"
   ]
  },
  {
   "cell_type": "code",
   "execution_count": 38,
   "id": "12d84e33",
   "metadata": {},
   "outputs": [
    {
     "data": {
      "text/plain": [
       "['i', 'am', 'working', 'with', 'ineuron']"
      ]
     },
     "execution_count": 38,
     "metadata": {},
     "output_type": "execute_result"
    }
   ],
   "source": [
    "s.split()"
   ]
  },
  {
   "cell_type": "code",
   "execution_count": 39,
   "id": "01b6d698",
   "metadata": {},
   "outputs": [
    {
     "data": {
      "text/plain": [
       "'i am working with ineuron'"
      ]
     },
     "execution_count": 39,
     "metadata": {},
     "output_type": "execute_result"
    }
   ],
   "source": [
    "s"
   ]
  },
  {
   "cell_type": "code",
   "execution_count": 40,
   "id": "24bd89f7",
   "metadata": {},
   "outputs": [
    {
     "data": {
      "text/plain": [
       "list"
      ]
     },
     "execution_count": 40,
     "metadata": {},
     "output_type": "execute_result"
    }
   ],
   "source": [
    "type(s.split())"
   ]
  },
  {
   "cell_type": "code",
   "execution_count": 41,
   "id": "eacdc37a",
   "metadata": {},
   "outputs": [],
   "source": [
    "l = s.split()"
   ]
  },
  {
   "cell_type": "code",
   "execution_count": 42,
   "id": "85dadb54",
   "metadata": {},
   "outputs": [
    {
     "data": {
      "text/plain": [
       "0"
      ]
     },
     "execution_count": 42,
     "metadata": {},
     "output_type": "execute_result"
    }
   ],
   "source": [
    "l.index('i')"
   ]
  },
  {
   "cell_type": "code",
   "execution_count": 43,
   "id": "9eaecf16",
   "metadata": {},
   "outputs": [],
   "source": [
    "l.reverse()"
   ]
  },
  {
   "cell_type": "code",
   "execution_count": 44,
   "id": "e460cd66",
   "metadata": {},
   "outputs": [
    {
     "data": {
      "text/plain": [
       "['ineuron', 'with', 'working', 'am', 'i']"
      ]
     },
     "execution_count": 44,
     "metadata": {},
     "output_type": "execute_result"
    }
   ],
   "source": [
    "l"
   ]
  },
  {
   "cell_type": "code",
   "execution_count": 45,
   "id": "730edc41",
   "metadata": {},
   "outputs": [],
   "source": [
    "l.reverse()"
   ]
  },
  {
   "cell_type": "code",
   "execution_count": 46,
   "id": "65b2d98c",
   "metadata": {},
   "outputs": [
    {
     "data": {
      "text/plain": [
       "['i', 'am', 'working', 'with', 'ineuron']"
      ]
     },
     "execution_count": 46,
     "metadata": {},
     "output_type": "execute_result"
    }
   ],
   "source": [
    "l"
   ]
  },
  {
   "cell_type": "code",
   "execution_count": 47,
   "id": "1aa0fa6e",
   "metadata": {},
   "outputs": [
    {
     "data": {
      "text/plain": [
       "['i', 'am', 'working']"
      ]
     },
     "execution_count": 47,
     "metadata": {},
     "output_type": "execute_result"
    }
   ],
   "source": [
    "l[0:3]"
   ]
  },
  {
   "cell_type": "code",
   "execution_count": 50,
   "id": "af2f7d6f",
   "metadata": {},
   "outputs": [
    {
     "data": {
      "text/plain": [
       "['i am ', 'rking with ineuron']"
      ]
     },
     "execution_count": 50,
     "metadata": {},
     "output_type": "execute_result"
    }
   ],
   "source": [
    "s.split('wo')"
   ]
  },
  {
   "cell_type": "code",
   "execution_count": 49,
   "id": "6520db5f",
   "metadata": {},
   "outputs": [
    {
     "data": {
      "text/plain": [
       "'i am working with ineuron'"
      ]
     },
     "execution_count": 49,
     "metadata": {},
     "output_type": "execute_result"
    }
   ],
   "source": [
    "s"
   ]
  },
  {
   "cell_type": "code",
   "execution_count": 51,
   "id": "0d5d75fe",
   "metadata": {},
   "outputs": [
    {
     "data": {
      "text/plain": [
       "'I Am Working With Ineuron'"
      ]
     },
     "execution_count": 51,
     "metadata": {},
     "output_type": "execute_result"
    }
   ],
   "source": [
    "s.title()"
   ]
  },
  {
   "cell_type": "code",
   "execution_count": 52,
   "id": "c7782c35",
   "metadata": {},
   "outputs": [
    {
     "data": {
      "text/plain": [
       "'I am working with ineuron'"
      ]
     },
     "execution_count": 52,
     "metadata": {},
     "output_type": "execute_result"
    }
   ],
   "source": [
    "s.capitalize()"
   ]
  },
  {
   "cell_type": "code",
   "execution_count": 53,
   "id": "0ca1a01d",
   "metadata": {},
   "outputs": [],
   "source": [
    "a = \"Nirav\"\n",
    "b = \"Joshi\""
   ]
  },
  {
   "cell_type": "code",
   "execution_count": 54,
   "id": "bbbcced3",
   "metadata": {},
   "outputs": [
    {
     "data": {
      "text/plain": [
       "'NJoshiiJoshirJoshiaJoshiv'"
      ]
     },
     "execution_count": 54,
     "metadata": {},
     "output_type": "execute_result"
    }
   ],
   "source": [
    "b.join(a)"
   ]
  },
  {
   "cell_type": "code",
   "execution_count": 55,
   "id": "e8f3166b",
   "metadata": {},
   "outputs": [
    {
     "data": {
      "text/plain": [
       "'ab.pq.rs'"
      ]
     },
     "execution_count": 55,
     "metadata": {},
     "output_type": "execute_result"
    }
   ],
   "source": [
    "'.'.join(['ab', 'pq', 'rs'])"
   ]
  },
  {
   "cell_type": "code",
   "execution_count": 56,
   "id": "30b36303",
   "metadata": {},
   "outputs": [
    {
     "data": {
      "text/plain": [
       "<reversed at 0x22fd3a2d700>"
      ]
     },
     "execution_count": 56,
     "metadata": {},
     "output_type": "execute_result"
    }
   ],
   "source": [
    "reversed(\"sudh\")"
   ]
  },
  {
   "cell_type": "code",
   "execution_count": 57,
   "id": "3f9e9371",
   "metadata": {},
   "outputs": [
    {
     "name": "stdout",
     "output_type": "stream",
     "text": [
      "h\n",
      "d\n",
      "u\n",
      "s\n"
     ]
    }
   ],
   "source": [
    "for i in reversed('sudh'):\n",
    "    print(i)"
   ]
  },
  {
   "cell_type": "code",
   "execution_count": 58,
   "id": "36cc5f7e",
   "metadata": {},
   "outputs": [],
   "source": [
    "s = \" Nirav \""
   ]
  },
  {
   "cell_type": "code",
   "execution_count": 59,
   "id": "31cd3578",
   "metadata": {},
   "outputs": [
    {
     "data": {
      "text/plain": [
       "' Nirav'"
      ]
     },
     "execution_count": 59,
     "metadata": {},
     "output_type": "execute_result"
    }
   ],
   "source": [
    "s.rstrip()"
   ]
  },
  {
   "cell_type": "code",
   "execution_count": 60,
   "id": "d2806d33",
   "metadata": {},
   "outputs": [
    {
     "data": {
      "text/plain": [
       "'Nirav '"
      ]
     },
     "execution_count": 60,
     "metadata": {},
     "output_type": "execute_result"
    }
   ],
   "source": [
    "s.lstrip()"
   ]
  },
  {
   "cell_type": "code",
   "execution_count": 61,
   "id": "70d0d698",
   "metadata": {},
   "outputs": [
    {
     "data": {
      "text/plain": [
       "'Nirav'"
      ]
     },
     "execution_count": 61,
     "metadata": {},
     "output_type": "execute_result"
    }
   ],
   "source": [
    "s.strip()"
   ]
  },
  {
   "cell_type": "code",
   "execution_count": 62,
   "id": "036efb9b",
   "metadata": {},
   "outputs": [
    {
     "data": {
      "text/plain": [
       "' NIrav '"
      ]
     },
     "execution_count": 62,
     "metadata": {},
     "output_type": "execute_result"
    }
   ],
   "source": [
    "s.replace('i', 'I')"
   ]
  },
  {
   "cell_type": "code",
   "execution_count": 64,
   "id": "013fc6ae",
   "metadata": {},
   "outputs": [
    {
     "data": {
      "text/plain": [
       "'################ Nirav #################'"
      ]
     },
     "execution_count": 64,
     "metadata": {},
     "output_type": "execute_result"
    }
   ],
   "source": [
    "s.center(40,'#')"
   ]
  },
  {
   "cell_type": "code",
   "execution_count": 65,
   "id": "48a1e4ca",
   "metadata": {},
   "outputs": [],
   "source": [
    "s = 'sudh'"
   ]
  },
  {
   "cell_type": "code",
   "execution_count": 66,
   "id": "c72dace0",
   "metadata": {},
   "outputs": [
    {
     "data": {
      "text/plain": [
       "False"
      ]
     },
     "execution_count": 66,
     "metadata": {},
     "output_type": "execute_result"
    }
   ],
   "source": [
    "s.isupper()"
   ]
  },
  {
   "cell_type": "code",
   "execution_count": 67,
   "id": "8fb87686",
   "metadata": {},
   "outputs": [
    {
     "data": {
      "text/plain": [
       "False"
      ]
     },
     "execution_count": 67,
     "metadata": {},
     "output_type": "execute_result"
    }
   ],
   "source": [
    "s.istitle()"
   ]
  },
  {
   "cell_type": "code",
   "execution_count": 68,
   "id": "b2b761a5",
   "metadata": {},
   "outputs": [
    {
     "data": {
      "text/plain": [
       "True"
      ]
     },
     "execution_count": 68,
     "metadata": {},
     "output_type": "execute_result"
    }
   ],
   "source": [
    "s.title().istitle()"
   ]
  },
  {
   "cell_type": "code",
   "execution_count": 69,
   "id": "d5e8cd10",
   "metadata": {},
   "outputs": [],
   "source": [
    "l = [\"sudh\", \"kumar\", 34, 44+4j, True, 11.11]"
   ]
  },
  {
   "cell_type": "code",
   "execution_count": 70,
   "id": "f71a0c26",
   "metadata": {},
   "outputs": [
    {
     "data": {
      "text/plain": [
       "11.11"
      ]
     },
     "execution_count": 70,
     "metadata": {},
     "output_type": "execute_result"
    }
   ],
   "source": [
    "l[-1]"
   ]
  },
  {
   "cell_type": "code",
   "execution_count": 71,
   "id": "4fb0849f",
   "metadata": {},
   "outputs": [
    {
     "data": {
      "text/plain": [
       "['sudh', 'kumar', 34, (44+4j), True, 11.11]"
      ]
     },
     "execution_count": 71,
     "metadata": {},
     "output_type": "execute_result"
    }
   ],
   "source": [
    "l[::]"
   ]
  },
  {
   "cell_type": "code",
   "execution_count": 73,
   "id": "c06461da",
   "metadata": {},
   "outputs": [
    {
     "data": {
      "text/plain": [
       "[11.11, True, (44+4j), 34, 'kumar', 'sudh']"
      ]
     },
     "execution_count": 73,
     "metadata": {},
     "output_type": "execute_result"
    }
   ],
   "source": [
    "l[-1::-1]"
   ]
  },
  {
   "cell_type": "code",
   "execution_count": 74,
   "id": "1ac00a54",
   "metadata": {},
   "outputs": [
    {
     "data": {
      "text/plain": [
       "[11.11, True, (44+4j), 34, 'kumar', 'sudh']"
      ]
     },
     "execution_count": 74,
     "metadata": {},
     "output_type": "execute_result"
    }
   ],
   "source": [
    "l[::-1]"
   ]
  },
  {
   "cell_type": "code",
   "execution_count": 75,
   "id": "c27b7e77",
   "metadata": {},
   "outputs": [
    {
     "data": {
      "text/plain": [
       "[11.11]"
      ]
     },
     "execution_count": 75,
     "metadata": {},
     "output_type": "execute_result"
    }
   ],
   "source": [
    "l[-1:6]"
   ]
  },
  {
   "cell_type": "code",
   "execution_count": 76,
   "id": "80afc589",
   "metadata": {},
   "outputs": [
    {
     "data": {
      "text/plain": [
       "'sudh'"
      ]
     },
     "execution_count": 76,
     "metadata": {},
     "output_type": "execute_result"
    }
   ],
   "source": [
    "l[0]"
   ]
  },
  {
   "cell_type": "code",
   "execution_count": 77,
   "id": "9ed4449a",
   "metadata": {},
   "outputs": [
    {
     "data": {
      "text/plain": [
       "'u'"
      ]
     },
     "execution_count": 77,
     "metadata": {},
     "output_type": "execute_result"
    }
   ],
   "source": [
    "l[0][1]"
   ]
  },
  {
   "cell_type": "code",
   "execution_count": 78,
   "id": "ac95e459",
   "metadata": {},
   "outputs": [
    {
     "data": {
      "text/plain": [
       "44.0"
      ]
     },
     "execution_count": 78,
     "metadata": {},
     "output_type": "execute_result"
    }
   ],
   "source": [
    "l[3].real"
   ]
  },
  {
   "cell_type": "code",
   "execution_count": 79,
   "id": "4a9a3225",
   "metadata": {},
   "outputs": [
    {
     "data": {
      "text/plain": [
       "['sudh',\n",
       " 'kumar',\n",
       " 34,\n",
       " (44+4j),\n",
       " True,\n",
       " 11.11,\n",
       " 'sudh',\n",
       " 'kumar',\n",
       " 34,\n",
       " (44+4j),\n",
       " True,\n",
       " 11.11,\n",
       " 'sudh',\n",
       " 'kumar',\n",
       " 34,\n",
       " (44+4j),\n",
       " True,\n",
       " 11.11,\n",
       " 'sudh',\n",
       " 'kumar',\n",
       " 34,\n",
       " (44+4j),\n",
       " True,\n",
       " 11.11]"
      ]
     },
     "execution_count": 79,
     "metadata": {},
     "output_type": "execute_result"
    }
   ],
   "source": [
    "l*4"
   ]
  },
  {
   "cell_type": "code",
   "execution_count": 80,
   "id": "2e1dc5f6",
   "metadata": {},
   "outputs": [],
   "source": [
    "l[0] = 'Nirav'"
   ]
  },
  {
   "cell_type": "code",
   "execution_count": 81,
   "id": "f1dbd997",
   "metadata": {},
   "outputs": [
    {
     "data": {
      "text/plain": [
       "['Nirav', 'kumar', 34, (44+4j), True, 11.11]"
      ]
     },
     "execution_count": 81,
     "metadata": {},
     "output_type": "execute_result"
    }
   ],
   "source": [
    "l"
   ]
  },
  {
   "cell_type": "code",
   "execution_count": 82,
   "id": "ec68051d",
   "metadata": {},
   "outputs": [
    {
     "data": {
      "text/plain": [
       "'Sumar'"
      ]
     },
     "execution_count": 82,
     "metadata": {},
     "output_type": "execute_result"
    }
   ],
   "source": [
    "l[1].replace('k','S')"
   ]
  },
  {
   "cell_type": "code",
   "execution_count": 83,
   "id": "fb170fc5",
   "metadata": {},
   "outputs": [
    {
     "data": {
      "text/plain": [
       "'i'"
      ]
     },
     "execution_count": 83,
     "metadata": {},
     "output_type": "execute_result"
    }
   ],
   "source": [
    "l[0][1]"
   ]
  },
  {
   "cell_type": "code",
   "execution_count": 85,
   "id": "e83820f0",
   "metadata": {},
   "outputs": [
    {
     "ename": "TypeError",
     "evalue": "'str' object does not support item assignment",
     "output_type": "error",
     "traceback": [
      "\u001b[1;31m---------------------------------------------------------------------------\u001b[0m",
      "\u001b[1;31mTypeError\u001b[0m                                 Traceback (most recent call last)",
      "\u001b[1;32m~\\AppData\\Local\\Temp/ipykernel_14576/2819399506.py\u001b[0m in \u001b[0;36m<module>\u001b[1;34m\u001b[0m\n\u001b[1;32m----> 1\u001b[1;33m \u001b[0ml\u001b[0m\u001b[1;33m[\u001b[0m\u001b[1;36m1\u001b[0m\u001b[1;33m]\u001b[0m\u001b[1;33m[\u001b[0m\u001b[1;36m0\u001b[0m\u001b[1;33m]\u001b[0m\u001b[1;33m=\u001b[0m\u001b[1;34m's'\u001b[0m\u001b[1;33m\u001b[0m\u001b[1;33m\u001b[0m\u001b[0m\n\u001b[0m",
      "\u001b[1;31mTypeError\u001b[0m: 'str' object does not support item assignment"
     ]
    }
   ],
   "source": [
    "l[1][0]='s'"
   ]
  },
  {
   "cell_type": "code",
   "execution_count": 86,
   "id": "805ac335",
   "metadata": {},
   "outputs": [
    {
     "data": {
      "text/plain": [
       "['Nirav', 'kumar', 34, (44+4j), True, 11.11]"
      ]
     },
     "execution_count": 86,
     "metadata": {},
     "output_type": "execute_result"
    }
   ],
   "source": [
    "l"
   ]
  },
  {
   "cell_type": "code",
   "execution_count": 87,
   "id": "1448d7c0",
   "metadata": {},
   "outputs": [
    {
     "data": {
      "text/plain": [
       "11.11"
      ]
     },
     "execution_count": 87,
     "metadata": {},
     "output_type": "execute_result"
    }
   ],
   "source": [
    "l.pop()"
   ]
  },
  {
   "cell_type": "code",
   "execution_count": 88,
   "id": "3103ea0d",
   "metadata": {},
   "outputs": [
    {
     "data": {
      "text/plain": [
       "['Nirav', 'kumar', 34, (44+4j), True]"
      ]
     },
     "execution_count": 88,
     "metadata": {},
     "output_type": "execute_result"
    }
   ],
   "source": [
    "l"
   ]
  },
  {
   "cell_type": "code",
   "execution_count": 89,
   "id": "32f0f583",
   "metadata": {},
   "outputs": [],
   "source": [
    "l.extend([\"a\",\"b\",\"c\"])"
   ]
  },
  {
   "cell_type": "code",
   "execution_count": 90,
   "id": "ac52a80c",
   "metadata": {},
   "outputs": [
    {
     "data": {
      "text/plain": [
       "['Nirav', 'kumar', 34, (44+4j), True, 'a', 'b', 'c']"
      ]
     },
     "execution_count": 90,
     "metadata": {},
     "output_type": "execute_result"
    }
   ],
   "source": [
    "l"
   ]
  },
  {
   "cell_type": "code",
   "execution_count": 91,
   "id": "2cd1b5cd",
   "metadata": {},
   "outputs": [],
   "source": [
    "s='Python'"
   ]
  },
  {
   "cell_type": "code",
   "execution_count": 92,
   "id": "7abcb57a",
   "metadata": {},
   "outputs": [
    {
     "data": {
      "text/plain": [
       "'Python'"
      ]
     },
     "execution_count": 92,
     "metadata": {},
     "output_type": "execute_result"
    }
   ],
   "source": [
    "s"
   ]
  },
  {
   "cell_type": "code",
   "execution_count": 93,
   "id": "84a6ab36",
   "metadata": {},
   "outputs": [
    {
     "data": {
      "text/plain": [
       "'n'"
      ]
     },
     "execution_count": 93,
     "metadata": {},
     "output_type": "execute_result"
    }
   ],
   "source": [
    "s[-1]"
   ]
  },
  {
   "cell_type": "code",
   "execution_count": 94,
   "id": "038b883f",
   "metadata": {},
   "outputs": [
    {
     "data": {
      "text/plain": [
       "'P'"
      ]
     },
     "execution_count": 94,
     "metadata": {},
     "output_type": "execute_result"
    }
   ],
   "source": [
    "s[-6]"
   ]
  },
  {
   "cell_type": "code",
   "execution_count": 1,
   "id": "15aa5c53",
   "metadata": {},
   "outputs": [],
   "source": [
    "## Talk on Tuples ##"
   ]
  },
  {
   "cell_type": "code",
   "execution_count": 2,
   "id": "0fe80fca",
   "metadata": {},
   "outputs": [],
   "source": [
    "t = (1,2,3,4)"
   ]
  },
  {
   "cell_type": "code",
   "execution_count": 3,
   "id": "72fe8ae6",
   "metadata": {},
   "outputs": [
    {
     "data": {
      "text/plain": [
       "tuple"
      ]
     },
     "execution_count": 3,
     "metadata": {},
     "output_type": "execute_result"
    }
   ],
   "source": [
    "type(t)"
   ]
  },
  {
   "cell_type": "code",
   "execution_count": 4,
   "id": "2a753656",
   "metadata": {},
   "outputs": [],
   "source": [
    "t = 1"
   ]
  },
  {
   "cell_type": "code",
   "execution_count": 5,
   "id": "434744aa",
   "metadata": {},
   "outputs": [
    {
     "data": {
      "text/plain": [
       "int"
      ]
     },
     "execution_count": 5,
     "metadata": {},
     "output_type": "execute_result"
    }
   ],
   "source": [
    "type(t)"
   ]
  },
  {
   "cell_type": "code",
   "execution_count": 6,
   "id": "a1a82a5d",
   "metadata": {},
   "outputs": [
    {
     "ename": "SyntaxError",
     "evalue": "unexpected EOF while parsing (Temp/ipykernel_20944/2138774481.py, line 1)",
     "output_type": "error",
     "traceback": [
      "\u001b[1;36m  File \u001b[1;32m\"C:\\Users\\njoshi\\AppData\\Local\\Temp/ipykernel_20944/2138774481.py\"\u001b[1;36m, line \u001b[1;32m1\u001b[0m\n\u001b[1;33m    t1 = ('Nirav', 'Joshi', 1,2,3.234, #)\u001b[0m\n\u001b[1;37m                                         ^\u001b[0m\n\u001b[1;31mSyntaxError\u001b[0m\u001b[1;31m:\u001b[0m unexpected EOF while parsing\n"
     ]
    }
   ],
   "source": [
    "# special characters are not allowed into tuples.\n",
    "t1 = ('Nirav', 'Joshi', 1,2,3.234, #)"
   ]
  },
  {
   "cell_type": "code",
   "execution_count": 7,
   "id": "4eee8b42",
   "metadata": {},
   "outputs": [],
   "source": [
    "t1 = ('Nirav', 'Joshi', 1,2,3.234)"
   ]
  },
  {
   "cell_type": "code",
   "execution_count": 8,
   "id": "72c6037c",
   "metadata": {},
   "outputs": [],
   "source": [
    "l = [1,2,3,4]"
   ]
  },
  {
   "cell_type": "code",
   "execution_count": 9,
   "id": "0f3188d0",
   "metadata": {},
   "outputs": [
    {
     "data": {
      "text/plain": [
       "list"
      ]
     },
     "execution_count": 9,
     "metadata": {},
     "output_type": "execute_result"
    }
   ],
   "source": [
    "type(l)"
   ]
  },
  {
   "cell_type": "code",
   "execution_count": 10,
   "id": "0cc41186",
   "metadata": {},
   "outputs": [],
   "source": [
    "t2=()"
   ]
  },
  {
   "cell_type": "code",
   "execution_count": 11,
   "id": "a1ba6a57",
   "metadata": {},
   "outputs": [
    {
     "data": {
      "text/plain": [
       "tuple"
      ]
     },
     "execution_count": 11,
     "metadata": {},
     "output_type": "execute_result"
    }
   ],
   "source": [
    "type(t2)"
   ]
  },
  {
   "cell_type": "code",
   "execution_count": 12,
   "id": "bbea09cb",
   "metadata": {},
   "outputs": [
    {
     "data": {
      "text/plain": [
       "('Nirav', 'Joshi', 1, 2, 3.234)"
      ]
     },
     "execution_count": 12,
     "metadata": {},
     "output_type": "execute_result"
    }
   ],
   "source": [
    "t1"
   ]
  },
  {
   "cell_type": "code",
   "execution_count": 13,
   "id": "fba7567d",
   "metadata": {},
   "outputs": [
    {
     "ename": "TypeError",
     "evalue": "'tuple' object is not callable",
     "output_type": "error",
     "traceback": [
      "\u001b[1;31m---------------------------------------------------------------------------\u001b[0m",
      "\u001b[1;31mTypeError\u001b[0m                                 Traceback (most recent call last)",
      "\u001b[1;32m~\\AppData\\Local\\Temp/ipykernel_20944/1286155781.py\u001b[0m in \u001b[0;36m<module>\u001b[1;34m\u001b[0m\n\u001b[1;32m----> 1\u001b[1;33m \u001b[0mt1\u001b[0m\u001b[1;33m(\u001b[0m\u001b[1;36m1\u001b[0m\u001b[1;33m)\u001b[0m\u001b[1;33m\u001b[0m\u001b[1;33m\u001b[0m\u001b[0m\n\u001b[0m",
      "\u001b[1;31mTypeError\u001b[0m: 'tuple' object is not callable"
     ]
    }
   ],
   "source": [
    "t1(1)"
   ]
  },
  {
   "cell_type": "code",
   "execution_count": 14,
   "id": "bcb051bc",
   "metadata": {},
   "outputs": [
    {
     "data": {
      "text/plain": [
       "1"
      ]
     },
     "execution_count": 14,
     "metadata": {},
     "output_type": "execute_result"
    }
   ],
   "source": [
    "t1[2]"
   ]
  },
  {
   "cell_type": "code",
   "execution_count": 15,
   "id": "7444f059",
   "metadata": {},
   "outputs": [
    {
     "data": {
      "text/plain": [
       "('Nirav', 'Joshi')"
      ]
     },
     "execution_count": 15,
     "metadata": {},
     "output_type": "execute_result"
    }
   ],
   "source": [
    "t1[0:2]"
   ]
  },
  {
   "cell_type": "code",
   "execution_count": 16,
   "id": "d705589b",
   "metadata": {},
   "outputs": [
    {
     "data": {
      "text/plain": [
       "(3.234, 2, 1, 'Joshi', 'Nirav')"
      ]
     },
     "execution_count": 16,
     "metadata": {},
     "output_type": "execute_result"
    }
   ],
   "source": [
    "t1[::-1]"
   ]
  },
  {
   "cell_type": "code",
   "execution_count": 17,
   "id": "7550d57a",
   "metadata": {},
   "outputs": [
    {
     "data": {
      "text/plain": [
       "('Nirav', 1, 3.234)"
      ]
     },
     "execution_count": 17,
     "metadata": {},
     "output_type": "execute_result"
    }
   ],
   "source": [
    "t1[::2]"
   ]
  },
  {
   "cell_type": "code",
   "execution_count": 18,
   "id": "81fdf5ea",
   "metadata": {},
   "outputs": [
    {
     "data": {
      "text/plain": [
       "('Nirav', 'Joshi', 1, 2, 3.234)"
      ]
     },
     "execution_count": 18,
     "metadata": {},
     "output_type": "execute_result"
    }
   ],
   "source": [
    "t1"
   ]
  },
  {
   "cell_type": "code",
   "execution_count": 19,
   "id": "6226baac",
   "metadata": {},
   "outputs": [
    {
     "data": {
      "text/plain": [
       "[1, 2, 3, 4]"
      ]
     },
     "execution_count": 19,
     "metadata": {},
     "output_type": "execute_result"
    }
   ],
   "source": [
    "l"
   ]
  },
  {
   "cell_type": "code",
   "execution_count": 20,
   "id": "feea4a9d",
   "metadata": {},
   "outputs": [
    {
     "ename": "TypeError",
     "evalue": "'tuple' object does not support item assignment",
     "output_type": "error",
     "traceback": [
      "\u001b[1;31m---------------------------------------------------------------------------\u001b[0m",
      "\u001b[1;31mTypeError\u001b[0m                                 Traceback (most recent call last)",
      "\u001b[1;32m~\\AppData\\Local\\Temp/ipykernel_20944/2184215041.py\u001b[0m in \u001b[0;36m<module>\u001b[1;34m\u001b[0m\n\u001b[1;32m----> 1\u001b[1;33m \u001b[0mt1\u001b[0m\u001b[1;33m[\u001b[0m\u001b[1;36m0\u001b[0m\u001b[1;33m]\u001b[0m \u001b[1;33m=\u001b[0m \u001b[1;34m'1'\u001b[0m\u001b[1;33m\u001b[0m\u001b[1;33m\u001b[0m\u001b[0m\n\u001b[0m",
      "\u001b[1;31mTypeError\u001b[0m: 'tuple' object does not support item assignment"
     ]
    }
   ],
   "source": [
    "t1[0] = '1'"
   ]
  },
  {
   "cell_type": "code",
   "execution_count": 22,
   "id": "ce148e7f",
   "metadata": {},
   "outputs": [],
   "source": [
    "## Tuples are immutable collection\n",
    "## lists are mutable collection"
   ]
  },
  {
   "cell_type": "code",
   "execution_count": 23,
   "id": "68694d3d",
   "metadata": {},
   "outputs": [
    {
     "data": {
      "text/plain": [
       "('Nirav', 'Joshi', 1, 2, 3.234, 'Nirav', 'Joshi', 1, 2, 3.234)"
      ]
     },
     "execution_count": 23,
     "metadata": {},
     "output_type": "execute_result"
    }
   ],
   "source": [
    "t1+t1"
   ]
  },
  {
   "cell_type": "code",
   "execution_count": 24,
   "id": "cc06252a",
   "metadata": {},
   "outputs": [],
   "source": [
    "t2 = t1 + t1"
   ]
  },
  {
   "cell_type": "code",
   "execution_count": 25,
   "id": "ff74e653",
   "metadata": {},
   "outputs": [
    {
     "data": {
      "text/plain": [
       "('Nirav', 'Joshi', 1, 2, 3.234, 'Nirav', 'Joshi', 1, 2, 3.234)"
      ]
     },
     "execution_count": 25,
     "metadata": {},
     "output_type": "execute_result"
    }
   ],
   "source": [
    "t2"
   ]
  },
  {
   "cell_type": "code",
   "execution_count": 26,
   "id": "c2627767",
   "metadata": {},
   "outputs": [
    {
     "ename": "TypeError",
     "evalue": "can only concatenate tuple (not \"list\") to tuple",
     "output_type": "error",
     "traceback": [
      "\u001b[1;31m---------------------------------------------------------------------------\u001b[0m",
      "\u001b[1;31mTypeError\u001b[0m                                 Traceback (most recent call last)",
      "\u001b[1;32m~\\AppData\\Local\\Temp/ipykernel_20944/1544430193.py\u001b[0m in \u001b[0;36m<module>\u001b[1;34m\u001b[0m\n\u001b[1;32m----> 1\u001b[1;33m \u001b[0mt1\u001b[0m \u001b[1;33m+\u001b[0m \u001b[0ml\u001b[0m\u001b[1;33m\u001b[0m\u001b[1;33m\u001b[0m\u001b[0m\n\u001b[0m",
      "\u001b[1;31mTypeError\u001b[0m: can only concatenate tuple (not \"list\") to tuple"
     ]
    }
   ],
   "source": [
    "t1 + l"
   ]
  },
  {
   "cell_type": "code",
   "execution_count": 27,
   "id": "a7b8c927",
   "metadata": {},
   "outputs": [],
   "source": [
    "t3=t1*3"
   ]
  },
  {
   "cell_type": "code",
   "execution_count": 28,
   "id": "2890765f",
   "metadata": {},
   "outputs": [
    {
     "data": {
      "text/plain": [
       "('Nirav',\n",
       " 'Joshi',\n",
       " 1,\n",
       " 2,\n",
       " 3.234,\n",
       " 'Nirav',\n",
       " 'Joshi',\n",
       " 1,\n",
       " 2,\n",
       " 3.234,\n",
       " 'Nirav',\n",
       " 'Joshi',\n",
       " 1,\n",
       " 2,\n",
       " 3.234)"
      ]
     },
     "execution_count": 28,
     "metadata": {},
     "output_type": "execute_result"
    }
   ],
   "source": [
    "t3"
   ]
  },
  {
   "cell_type": "code",
   "execution_count": 29,
   "id": "a9300df9",
   "metadata": {},
   "outputs": [
    {
     "data": {
      "text/plain": [
       "15"
      ]
     },
     "execution_count": 29,
     "metadata": {},
     "output_type": "execute_result"
    }
   ],
   "source": [
    "len(t3)"
   ]
  },
  {
   "cell_type": "code",
   "execution_count": 30,
   "id": "ebc12e73",
   "metadata": {},
   "outputs": [
    {
     "data": {
      "text/plain": [
       "<function tuple.count(value, /)>"
      ]
     },
     "execution_count": 30,
     "metadata": {},
     "output_type": "execute_result"
    }
   ],
   "source": [
    "t1.count"
   ]
  },
  {
   "cell_type": "code",
   "execution_count": 32,
   "id": "bbd8633e",
   "metadata": {},
   "outputs": [
    {
     "data": {
      "text/plain": [
       "1"
      ]
     },
     "execution_count": 32,
     "metadata": {},
     "output_type": "execute_result"
    }
   ],
   "source": [
    "t1.count('Nirav')"
   ]
  },
  {
   "cell_type": "code",
   "execution_count": 33,
   "id": "5dae1f90",
   "metadata": {},
   "outputs": [
    {
     "data": {
      "text/plain": [
       "2"
      ]
     },
     "execution_count": 33,
     "metadata": {},
     "output_type": "execute_result"
    }
   ],
   "source": [
    "t1.index(1)"
   ]
  },
  {
   "cell_type": "code",
   "execution_count": 34,
   "id": "8bd52b2a",
   "metadata": {},
   "outputs": [
    {
     "data": {
      "text/plain": [
       "1"
      ]
     },
     "execution_count": 34,
     "metadata": {},
     "output_type": "execute_result"
    }
   ],
   "source": [
    "t1.count('Nirav')"
   ]
  },
  {
   "cell_type": "code",
   "execution_count": 35,
   "id": "7dfefca7",
   "metadata": {},
   "outputs": [],
   "source": [
    "t4 = (t1,t2)"
   ]
  },
  {
   "cell_type": "code",
   "execution_count": 36,
   "id": "39d23ac2",
   "metadata": {},
   "outputs": [
    {
     "data": {
      "text/plain": [
       "(('Nirav', 'Joshi', 1, 2, 3.234),\n",
       " ('Nirav', 'Joshi', 1, 2, 3.234, 'Nirav', 'Joshi', 1, 2, 3.234))"
      ]
     },
     "execution_count": 36,
     "metadata": {},
     "output_type": "execute_result"
    }
   ],
   "source": [
    "t4"
   ]
  },
  {
   "cell_type": "code",
   "execution_count": 37,
   "id": "a08c8d44",
   "metadata": {},
   "outputs": [
    {
     "data": {
      "text/plain": [
       "0"
      ]
     },
     "execution_count": 37,
     "metadata": {},
     "output_type": "execute_result"
    }
   ],
   "source": [
    "t4.count('Nirav')"
   ]
  },
  {
   "cell_type": "code",
   "execution_count": 38,
   "id": "1dcc16d1",
   "metadata": {},
   "outputs": [],
   "source": [
    "t5 = (l,t1)"
   ]
  },
  {
   "cell_type": "code",
   "execution_count": 39,
   "id": "09d8efdc",
   "metadata": {},
   "outputs": [
    {
     "data": {
      "text/plain": [
       "([1, 2, 3, 4], ('Nirav', 'Joshi', 1, 2, 3.234))"
      ]
     },
     "execution_count": 39,
     "metadata": {},
     "output_type": "execute_result"
    }
   ],
   "source": [
    "t5"
   ]
  },
  {
   "cell_type": "code",
   "execution_count": 40,
   "id": "0f3da940",
   "metadata": {},
   "outputs": [
    {
     "data": {
      "text/plain": [
       "[1, 2, 3, 4]"
      ]
     },
     "execution_count": 40,
     "metadata": {},
     "output_type": "execute_result"
    }
   ],
   "source": [
    "t5[0]"
   ]
  },
  {
   "cell_type": "code",
   "execution_count": 41,
   "id": "b0e806de",
   "metadata": {},
   "outputs": [
    {
     "data": {
      "text/plain": [
       "1"
      ]
     },
     "execution_count": 41,
     "metadata": {},
     "output_type": "execute_result"
    }
   ],
   "source": [
    "t5[0][0]"
   ]
  },
  {
   "cell_type": "code",
   "execution_count": 42,
   "id": "a4ca9051",
   "metadata": {},
   "outputs": [],
   "source": [
    "t5[0][0] = 2"
   ]
  },
  {
   "cell_type": "code",
   "execution_count": 43,
   "id": "02dfca3c",
   "metadata": {},
   "outputs": [
    {
     "data": {
      "text/plain": [
       "([2, 2, 3, 4], ('Nirav', 'Joshi', 1, 2, 3.234))"
      ]
     },
     "execution_count": 43,
     "metadata": {},
     "output_type": "execute_result"
    }
   ],
   "source": [
    "t5"
   ]
  },
  {
   "cell_type": "code",
   "execution_count": 44,
   "id": "59d558b5",
   "metadata": {},
   "outputs": [
    {
     "data": {
      "text/plain": [
       "(2, 2, 3, 4)"
      ]
     },
     "execution_count": 44,
     "metadata": {},
     "output_type": "execute_result"
    }
   ],
   "source": [
    "tuple(l)"
   ]
  },
  {
   "cell_type": "code",
   "execution_count": 45,
   "id": "2aac9484",
   "metadata": {},
   "outputs": [
    {
     "data": {
      "text/plain": [
       "['Nirav', 'Joshi', 1, 2, 3.234]"
      ]
     },
     "execution_count": 45,
     "metadata": {},
     "output_type": "execute_result"
    }
   ],
   "source": [
    "list(t1)"
   ]
  },
  {
   "cell_type": "code",
   "execution_count": 46,
   "id": "efe246c2",
   "metadata": {},
   "outputs": [],
   "source": [
    "## Set collection"
   ]
  },
  {
   "cell_type": "code",
   "execution_count": 47,
   "id": "9500e08d",
   "metadata": {},
   "outputs": [
    {
     "data": {
      "text/plain": [
       "{1, 2, 3.234, 'Joshi', 'Nirav'}"
      ]
     },
     "execution_count": 47,
     "metadata": {},
     "output_type": "execute_result"
    }
   ],
   "source": [
    "set(t1)"
   ]
  },
  {
   "cell_type": "code",
   "execution_count": 48,
   "id": "6c05d2c9",
   "metadata": {},
   "outputs": [
    {
     "ename": "NameError",
     "evalue": "name 'l2' is not defined",
     "output_type": "error",
     "traceback": [
      "\u001b[1;31m---------------------------------------------------------------------------\u001b[0m",
      "\u001b[1;31mNameError\u001b[0m                                 Traceback (most recent call last)",
      "\u001b[1;32m~\\AppData\\Local\\Temp/ipykernel_20944/2371406284.py\u001b[0m in \u001b[0;36m<module>\u001b[1;34m\u001b[0m\n\u001b[1;32m----> 1\u001b[1;33m \u001b[0ml2\u001b[0m\u001b[1;33m\u001b[0m\u001b[1;33m\u001b[0m\u001b[0m\n\u001b[0m",
      "\u001b[1;31mNameError\u001b[0m: name 'l2' is not defined"
     ]
    }
   ],
   "source": [
    "l2"
   ]
  },
  {
   "cell_type": "code",
   "execution_count": 49,
   "id": "de92abc2",
   "metadata": {},
   "outputs": [],
   "source": [
    "l2 = [1,2,3,4,5,5,5,5,6,7,8,1,2,3,4]"
   ]
  },
  {
   "cell_type": "code",
   "execution_count": 50,
   "id": "007e54b5",
   "metadata": {},
   "outputs": [
    {
     "data": {
      "text/plain": [
       "[1, 2, 3, 4, 5, 5, 5, 5, 6, 7, 8, 1, 2, 3, 4]"
      ]
     },
     "execution_count": 50,
     "metadata": {},
     "output_type": "execute_result"
    }
   ],
   "source": [
    "l2"
   ]
  },
  {
   "cell_type": "code",
   "execution_count": 51,
   "id": "657876a0",
   "metadata": {},
   "outputs": [
    {
     "data": {
      "text/plain": [
       "{1, 2, 3, 4, 5, 6, 7, 8}"
      ]
     },
     "execution_count": 51,
     "metadata": {},
     "output_type": "execute_result"
    }
   ],
   "source": [
    "set(l2)"
   ]
  },
  {
   "cell_type": "code",
   "execution_count": 52,
   "id": "3b7f0322",
   "metadata": {},
   "outputs": [
    {
     "data": {
      "text/plain": [
       "set"
      ]
     },
     "execution_count": 52,
     "metadata": {},
     "output_type": "execute_result"
    }
   ],
   "source": [
    "type(set(l2))"
   ]
  },
  {
   "cell_type": "code",
   "execution_count": 53,
   "id": "092acdf1",
   "metadata": {},
   "outputs": [],
   "source": [
    "l3 = [t1,t2,t1,t3]"
   ]
  },
  {
   "cell_type": "code",
   "execution_count": 54,
   "id": "e67445c2",
   "metadata": {},
   "outputs": [
    {
     "data": {
      "text/plain": [
       "[('Nirav', 'Joshi', 1, 2, 3.234),\n",
       " ('Nirav', 'Joshi', 1, 2, 3.234, 'Nirav', 'Joshi', 1, 2, 3.234),\n",
       " ('Nirav', 'Joshi', 1, 2, 3.234),\n",
       " ('Nirav',\n",
       "  'Joshi',\n",
       "  1,\n",
       "  2,\n",
       "  3.234,\n",
       "  'Nirav',\n",
       "  'Joshi',\n",
       "  1,\n",
       "  2,\n",
       "  3.234,\n",
       "  'Nirav',\n",
       "  'Joshi',\n",
       "  1,\n",
       "  2,\n",
       "  3.234)]"
      ]
     },
     "execution_count": 54,
     "metadata": {},
     "output_type": "execute_result"
    }
   ],
   "source": [
    "l3"
   ]
  },
  {
   "cell_type": "code",
   "execution_count": 55,
   "id": "b5977f78",
   "metadata": {},
   "outputs": [
    {
     "data": {
      "text/plain": [
       "{('Nirav', 'Joshi', 1, 2, 3.234),\n",
       " ('Nirav', 'Joshi', 1, 2, 3.234, 'Nirav', 'Joshi', 1, 2, 3.234),\n",
       " ('Nirav',\n",
       "  'Joshi',\n",
       "  1,\n",
       "  2,\n",
       "  3.234,\n",
       "  'Nirav',\n",
       "  'Joshi',\n",
       "  1,\n",
       "  2,\n",
       "  3.234,\n",
       "  'Nirav',\n",
       "  'Joshi',\n",
       "  1,\n",
       "  2,\n",
       "  3.234)}"
      ]
     },
     "execution_count": 55,
     "metadata": {},
     "output_type": "execute_result"
    }
   ],
   "source": [
    "set(l3)"
   ]
  },
  {
   "cell_type": "code",
   "execution_count": 56,
   "id": "b95160dc",
   "metadata": {},
   "outputs": [],
   "source": [
    "s = set(l)"
   ]
  },
  {
   "cell_type": "code",
   "execution_count": 57,
   "id": "c527771c",
   "metadata": {},
   "outputs": [
    {
     "data": {
      "text/plain": [
       "{2, 3, 4}"
      ]
     },
     "execution_count": 57,
     "metadata": {},
     "output_type": "execute_result"
    }
   ],
   "source": [
    "s"
   ]
  },
  {
   "cell_type": "code",
   "execution_count": 58,
   "id": "37f02bf7",
   "metadata": {},
   "outputs": [],
   "source": [
    "s={}"
   ]
  },
  {
   "cell_type": "code",
   "execution_count": 59,
   "id": "019eae6f",
   "metadata": {},
   "outputs": [
    {
     "data": {
      "text/plain": [
       "dict"
      ]
     },
     "execution_count": 59,
     "metadata": {},
     "output_type": "execute_result"
    }
   ],
   "source": [
    "type(s)"
   ]
  },
  {
   "cell_type": "code",
   "execution_count": 60,
   "id": "b0e15d47",
   "metadata": {},
   "outputs": [],
   "source": [
    "s1={1}"
   ]
  },
  {
   "cell_type": "code",
   "execution_count": 61,
   "id": "1609f3dc",
   "metadata": {},
   "outputs": [
    {
     "data": {
      "text/plain": [
       "set"
      ]
     },
     "execution_count": 61,
     "metadata": {},
     "output_type": "execute_result"
    }
   ],
   "source": [
    "type(s1)"
   ]
  },
  {
   "cell_type": "code",
   "execution_count": 62,
   "id": "0330894b",
   "metadata": {},
   "outputs": [
    {
     "data": {
      "text/plain": [
       "{1}"
      ]
     },
     "execution_count": 62,
     "metadata": {},
     "output_type": "execute_result"
    }
   ],
   "source": [
    "s1"
   ]
  },
  {
   "cell_type": "code",
   "execution_count": 63,
   "id": "f67bad6d",
   "metadata": {},
   "outputs": [],
   "source": [
    "s2 = {1,2,3,1}"
   ]
  },
  {
   "cell_type": "code",
   "execution_count": 64,
   "id": "682990fd",
   "metadata": {},
   "outputs": [
    {
     "data": {
      "text/plain": [
       "{1, 2, 3}"
      ]
     },
     "execution_count": 64,
     "metadata": {},
     "output_type": "execute_result"
    }
   ],
   "source": [
    "s2"
   ]
  },
  {
   "cell_type": "code",
   "execution_count": 65,
   "id": "11f1e13f",
   "metadata": {},
   "outputs": [
    {
     "ename": "TypeError",
     "evalue": "unhashable type: 'set'",
     "output_type": "error",
     "traceback": [
      "\u001b[1;31m---------------------------------------------------------------------------\u001b[0m",
      "\u001b[1;31mTypeError\u001b[0m                                 Traceback (most recent call last)",
      "\u001b[1;32m~\\AppData\\Local\\Temp/ipykernel_20944/2349003727.py\u001b[0m in \u001b[0;36m<module>\u001b[1;34m\u001b[0m\n\u001b[1;32m----> 1\u001b[1;33m \u001b[0ms3\u001b[0m\u001b[1;33m=\u001b[0m\u001b[1;33m{\u001b[0m\u001b[0ms1\u001b[0m\u001b[1;33m,\u001b[0m\u001b[0ms2\u001b[0m\u001b[1;33m}\u001b[0m\u001b[1;33m\u001b[0m\u001b[1;33m\u001b[0m\u001b[0m\n\u001b[0m",
      "\u001b[1;31mTypeError\u001b[0m: unhashable type: 'set'"
     ]
    }
   ],
   "source": [
    "s3={s1,s2}"
   ]
  },
  {
   "cell_type": "code",
   "execution_count": 66,
   "id": "04ccd89b",
   "metadata": {},
   "outputs": [],
   "source": [
    "l4 = [s1,s2]"
   ]
  },
  {
   "cell_type": "code",
   "execution_count": 67,
   "id": "061f9945",
   "metadata": {},
   "outputs": [
    {
     "data": {
      "text/plain": [
       "[{1}, {1, 2, 3}]"
      ]
     },
     "execution_count": 67,
     "metadata": {},
     "output_type": "execute_result"
    }
   ],
   "source": [
    "l4"
   ]
  },
  {
   "cell_type": "code",
   "execution_count": 68,
   "id": "192aafec",
   "metadata": {},
   "outputs": [
    {
     "ename": "TypeError",
     "evalue": "'set' object is not subscriptable",
     "output_type": "error",
     "traceback": [
      "\u001b[1;31m---------------------------------------------------------------------------\u001b[0m",
      "\u001b[1;31mTypeError\u001b[0m                                 Traceback (most recent call last)",
      "\u001b[1;32m~\\AppData\\Local\\Temp/ipykernel_20944/643609873.py\u001b[0m in \u001b[0;36m<module>\u001b[1;34m\u001b[0m\n\u001b[1;32m----> 1\u001b[1;33m \u001b[0ms1\u001b[0m\u001b[1;33m[\u001b[0m\u001b[1;36m0\u001b[0m\u001b[1;33m]\u001b[0m\u001b[1;33m\u001b[0m\u001b[1;33m\u001b[0m\u001b[0m\n\u001b[0m",
      "\u001b[1;31mTypeError\u001b[0m: 'set' object is not subscriptable"
     ]
    }
   ],
   "source": [
    "s1[0]"
   ]
  },
  {
   "cell_type": "code",
   "execution_count": 69,
   "id": "640bfb83",
   "metadata": {},
   "outputs": [
    {
     "data": {
      "text/plain": [
       "1"
      ]
     },
     "execution_count": 69,
     "metadata": {},
     "output_type": "execute_result"
    }
   ],
   "source": [
    "s2.pop()"
   ]
  },
  {
   "cell_type": "code",
   "execution_count": 70,
   "id": "bde92992",
   "metadata": {},
   "outputs": [
    {
     "data": {
      "text/plain": [
       "{2, 3}"
      ]
     },
     "execution_count": 70,
     "metadata": {},
     "output_type": "execute_result"
    }
   ],
   "source": [
    "s2"
   ]
  },
  {
   "cell_type": "code",
   "execution_count": 71,
   "id": "2d1a704a",
   "metadata": {},
   "outputs": [],
   "source": [
    "s2.add('N')"
   ]
  },
  {
   "cell_type": "code",
   "execution_count": 72,
   "id": "4185383b",
   "metadata": {},
   "outputs": [
    {
     "data": {
      "text/plain": [
       "{2, 3, 'N'}"
      ]
     },
     "execution_count": 72,
     "metadata": {},
     "output_type": "execute_result"
    }
   ],
   "source": [
    "s2"
   ]
  },
  {
   "cell_type": "code",
   "execution_count": 73,
   "id": "856bca53",
   "metadata": {},
   "outputs": [
    {
     "ename": "TypeError",
     "evalue": "unhashable type: 'set'",
     "output_type": "error",
     "traceback": [
      "\u001b[1;31m---------------------------------------------------------------------------\u001b[0m",
      "\u001b[1;31mTypeError\u001b[0m                                 Traceback (most recent call last)",
      "\u001b[1;32m~\\AppData\\Local\\Temp/ipykernel_20944/2300366642.py\u001b[0m in \u001b[0;36m<module>\u001b[1;34m\u001b[0m\n\u001b[1;32m----> 1\u001b[1;33m \u001b[0ms2\u001b[0m\u001b[1;33m.\u001b[0m\u001b[0madd\u001b[0m\u001b[1;33m(\u001b[0m\u001b[0ms1\u001b[0m\u001b[1;33m)\u001b[0m\u001b[1;33m\u001b[0m\u001b[1;33m\u001b[0m\u001b[0m\n\u001b[0m",
      "\u001b[1;31mTypeError\u001b[0m: unhashable type: 'set'"
     ]
    }
   ],
   "source": [
    "s2.add(s1)"
   ]
  },
  {
   "cell_type": "code",
   "execution_count": 75,
   "id": "eab12749",
   "metadata": {},
   "outputs": [],
   "source": [
    "s2.add((1))"
   ]
  },
  {
   "cell_type": "code",
   "execution_count": 76,
   "id": "474e9807",
   "metadata": {},
   "outputs": [
    {
     "data": {
      "text/plain": [
       "{1, 2, 3, 'N'}"
      ]
     },
     "execution_count": 76,
     "metadata": {},
     "output_type": "execute_result"
    }
   ],
   "source": [
    "s2"
   ]
  },
  {
   "cell_type": "code",
   "execution_count": 77,
   "id": "1482c14c",
   "metadata": {},
   "outputs": [],
   "source": [
    "s2.remove(1)"
   ]
  },
  {
   "cell_type": "code",
   "execution_count": 78,
   "id": "e62c6799",
   "metadata": {},
   "outputs": [
    {
     "data": {
      "text/plain": [
       "{2, 3, 'N'}"
      ]
     },
     "execution_count": 78,
     "metadata": {},
     "output_type": "execute_result"
    }
   ],
   "source": [
    "s2"
   ]
  },
  {
   "cell_type": "code",
   "execution_count": 79,
   "id": "08c98ee9",
   "metadata": {},
   "outputs": [],
   "source": [
    "s2.remove('N')"
   ]
  },
  {
   "cell_type": "code",
   "execution_count": 80,
   "id": "8cf68673",
   "metadata": {},
   "outputs": [
    {
     "data": {
      "text/plain": [
       "{2, 3}"
      ]
     },
     "execution_count": 80,
     "metadata": {},
     "output_type": "execute_result"
    }
   ],
   "source": [
    "s2"
   ]
  },
  {
   "cell_type": "code",
   "execution_count": 81,
   "id": "42a2c887",
   "metadata": {},
   "outputs": [
    {
     "ename": "KeyError",
     "evalue": "1",
     "output_type": "error",
     "traceback": [
      "\u001b[1;31m---------------------------------------------------------------------------\u001b[0m",
      "\u001b[1;31mKeyError\u001b[0m                                  Traceback (most recent call last)",
      "\u001b[1;32m~\\AppData\\Local\\Temp/ipykernel_20944/2069159981.py\u001b[0m in \u001b[0;36m<module>\u001b[1;34m\u001b[0m\n\u001b[1;32m----> 1\u001b[1;33m \u001b[0ms2\u001b[0m\u001b[1;33m.\u001b[0m\u001b[0mremove\u001b[0m\u001b[1;33m(\u001b[0m\u001b[1;36m1\u001b[0m\u001b[1;33m)\u001b[0m\u001b[1;33m\u001b[0m\u001b[1;33m\u001b[0m\u001b[0m\n\u001b[0m",
      "\u001b[1;31mKeyError\u001b[0m: 1"
     ]
    }
   ],
   "source": [
    "s2.remove(1)"
   ]
  },
  {
   "cell_type": "code",
   "execution_count": 82,
   "id": "efe1c0f3",
   "metadata": {},
   "outputs": [],
   "source": [
    "s2.discard(1)"
   ]
  },
  {
   "cell_type": "code",
   "execution_count": 83,
   "id": "c7a122b9",
   "metadata": {},
   "outputs": [],
   "source": [
    "# remove()  - Remove element elem from the set. Raises KeyError if elem is not contained in the set.\n",
    "# discard() - Remove element elem from the set if it is present."
   ]
  },
  {
   "cell_type": "code",
   "execution_count": 84,
   "id": "38af5988",
   "metadata": {},
   "outputs": [
    {
     "data": {
      "text/plain": [
       "{'Nirav', 'nirav'}"
      ]
     },
     "execution_count": 84,
     "metadata": {},
     "output_type": "execute_result"
    }
   ],
   "source": [
    "{'Nirav','nirav'}"
   ]
  },
  {
   "cell_type": "code",
   "execution_count": 85,
   "id": "7f68b08f",
   "metadata": {},
   "outputs": [],
   "source": [
    "# Dictionary collection"
   ]
  },
  {
   "cell_type": "code",
   "execution_count": 93,
   "id": "aed14eea",
   "metadata": {},
   "outputs": [],
   "source": [
    "d = {\"a\":()} # a is a key and () is a value"
   ]
  },
  {
   "cell_type": "code",
   "execution_count": 94,
   "id": "2204385f",
   "metadata": {},
   "outputs": [
    {
     "data": {
      "text/plain": [
       "dict"
      ]
     },
     "execution_count": 94,
     "metadata": {},
     "output_type": "execute_result"
    }
   ],
   "source": [
    "type(d)"
   ]
  },
  {
   "cell_type": "code",
   "execution_count": 95,
   "id": "0ee1c3a6",
   "metadata": {},
   "outputs": [
    {
     "data": {
      "text/plain": [
       "()"
      ]
     },
     "execution_count": 95,
     "metadata": {},
     "output_type": "execute_result"
    }
   ],
   "source": [
    "d.get(\"a\")"
   ]
  },
  {
   "cell_type": "code",
   "execution_count": 96,
   "id": "504b57b3",
   "metadata": {},
   "outputs": [
    {
     "data": {
      "text/plain": [
       "()"
      ]
     },
     "execution_count": 96,
     "metadata": {},
     "output_type": "execute_result"
    }
   ],
   "source": [
    "d[\"a\"]"
   ]
  },
  {
   "cell_type": "code",
   "execution_count": 101,
   "id": "023229c3",
   "metadata": {},
   "outputs": [
    {
     "data": {
      "text/plain": [
       "'a'"
      ]
     },
     "execution_count": 101,
     "metadata": {},
     "output_type": "execute_result"
    }
   ],
   "source": [
    "list(d)[0]"
   ]
  },
  {
   "cell_type": "code",
   "execution_count": 98,
   "id": "700cde78",
   "metadata": {},
   "outputs": [
    {
     "data": {
      "text/plain": [
       "{'a'}"
      ]
     },
     "execution_count": 98,
     "metadata": {},
     "output_type": "execute_result"
    }
   ],
   "source": [
    "set(d)"
   ]
  },
  {
   "cell_type": "code",
   "execution_count": 99,
   "id": "bfbf8d81",
   "metadata": {},
   "outputs": [
    {
     "data": {
      "text/plain": [
       "dict_values([()])"
      ]
     },
     "execution_count": 99,
     "metadata": {},
     "output_type": "execute_result"
    }
   ],
   "source": [
    "d.values()"
   ]
  },
  {
   "cell_type": "code",
   "execution_count": 100,
   "id": "4b4390a1",
   "metadata": {},
   "outputs": [
    {
     "data": {
      "text/plain": [
       "[()]"
      ]
     },
     "execution_count": 100,
     "metadata": {},
     "output_type": "execute_result"
    }
   ],
   "source": [
    "list(d.values())"
   ]
  },
  {
   "cell_type": "code",
   "execution_count": 102,
   "id": "a72f1aec",
   "metadata": {},
   "outputs": [],
   "source": [
    "d1 = {'1': 123, '2':321}"
   ]
  },
  {
   "cell_type": "code",
   "execution_count": 103,
   "id": "0c9c4d2f",
   "metadata": {},
   "outputs": [
    {
     "data": {
      "text/plain": [
       "{'1': 123, '2': 321}"
      ]
     },
     "execution_count": 103,
     "metadata": {},
     "output_type": "execute_result"
    }
   ],
   "source": [
    "d1"
   ]
  },
  {
   "cell_type": "code",
   "execution_count": 104,
   "id": "85233f80",
   "metadata": {},
   "outputs": [],
   "source": [
    "d1 = {'1': 123, '2':321, '1':1}"
   ]
  },
  {
   "cell_type": "code",
   "execution_count": 107,
   "id": "f3a7d917",
   "metadata": {},
   "outputs": [
    {
     "data": {
      "text/plain": [
       "{'_1': 123, '2': 321, '@1': 1}"
      ]
     },
     "execution_count": 107,
     "metadata": {},
     "output_type": "execute_result"
    }
   ],
   "source": [
    "d1"
   ]
  },
  {
   "cell_type": "code",
   "execution_count": 112,
   "id": "1add8b22",
   "metadata": {},
   "outputs": [],
   "source": [
    "d1 = {'_1': 1+23, '2':321, '@1':1}"
   ]
  },
  {
   "cell_type": "code",
   "execution_count": 113,
   "id": "53584585",
   "metadata": {},
   "outputs": [
    {
     "data": {
      "text/plain": [
       "{'_1': 24, '2': 321, '@1': 1}"
      ]
     },
     "execution_count": 113,
     "metadata": {},
     "output_type": "execute_result"
    }
   ],
   "source": [
    "d1"
   ]
  },
  {
   "cell_type": "code",
   "execution_count": 114,
   "id": "42a00a9b",
   "metadata": {},
   "outputs": [
    {
     "data": {
      "text/plain": [
       "dict_items([('_1', 24), ('2', 321), ('@1', 1)])"
      ]
     },
     "execution_count": 114,
     "metadata": {},
     "output_type": "execute_result"
    }
   ],
   "source": [
    "d1.items()"
   ]
  },
  {
   "cell_type": "code",
   "execution_count": 116,
   "id": "f9e6717d",
   "metadata": {},
   "outputs": [
    {
     "data": {
      "text/plain": [
       "dict_items"
      ]
     },
     "execution_count": 116,
     "metadata": {},
     "output_type": "execute_result"
    }
   ],
   "source": [
    "type(d1.items())"
   ]
  },
  {
   "cell_type": "code",
   "execution_count": 117,
   "id": "6887d3f0",
   "metadata": {},
   "outputs": [],
   "source": [
    "del d1['_1']"
   ]
  },
  {
   "cell_type": "code",
   "execution_count": 118,
   "id": "be7924f7",
   "metadata": {},
   "outputs": [
    {
     "data": {
      "text/plain": [
       "{'2': 321, '@1': 1}"
      ]
     },
     "execution_count": 118,
     "metadata": {},
     "output_type": "execute_result"
    }
   ],
   "source": [
    "d1"
   ]
  },
  {
   "cell_type": "code",
   "execution_count": 119,
   "id": "3861eba5",
   "metadata": {},
   "outputs": [],
   "source": [
    "d1.update(d1)"
   ]
  },
  {
   "cell_type": "code",
   "execution_count": 120,
   "id": "fca949b5",
   "metadata": {},
   "outputs": [
    {
     "data": {
      "text/plain": [
       "{'2': 321, '@1': 1}"
      ]
     },
     "execution_count": 120,
     "metadata": {},
     "output_type": "execute_result"
    }
   ],
   "source": [
    "d1"
   ]
  },
  {
   "cell_type": "code",
   "execution_count": 121,
   "id": "dd2db380",
   "metadata": {},
   "outputs": [],
   "source": [
    "d1.update(d)"
   ]
  },
  {
   "cell_type": "code",
   "execution_count": 122,
   "id": "2addf024",
   "metadata": {},
   "outputs": [
    {
     "data": {
      "text/plain": [
       "{'2': 321, '@1': 1, 'a': ()}"
      ]
     },
     "execution_count": 122,
     "metadata": {},
     "output_type": "execute_result"
    }
   ],
   "source": [
    "d1"
   ]
  },
  {
   "cell_type": "code",
   "execution_count": 123,
   "id": "3a6ec2a1",
   "metadata": {},
   "outputs": [
    {
     "data": {
      "text/plain": [
       "('Nirav',\n",
       " 'Joshi',\n",
       " 1,\n",
       " 2,\n",
       " 3.234,\n",
       " 'Nirav',\n",
       " 'Joshi',\n",
       " 1,\n",
       " 2,\n",
       " 3.234,\n",
       " 'Nirav',\n",
       " 'Joshi',\n",
       " 1,\n",
       " 2,\n",
       " 3.234)"
      ]
     },
     "execution_count": 123,
     "metadata": {},
     "output_type": "execute_result"
    }
   ],
   "source": [
    "t1+t2"
   ]
  },
  {
   "cell_type": "code",
   "execution_count": 125,
   "id": "f8631e38",
   "metadata": {},
   "outputs": [
    {
     "data": {
      "text/plain": [
       "['a', 'b']"
      ]
     },
     "execution_count": 125,
     "metadata": {},
     "output_type": "execute_result"
    }
   ],
   "source": [
    "list({'a':1, 'b':2})"
   ]
  },
  {
   "cell_type": "code",
   "execution_count": 1,
   "id": "436f03a8",
   "metadata": {},
   "outputs": [],
   "source": [
    "## Loops ##"
   ]
  },
  {
   "cell_type": "code",
   "execution_count": 2,
   "id": "21e3387e",
   "metadata": {},
   "outputs": [],
   "source": [
    "# If-else control flow #"
   ]
  },
  {
   "cell_type": "code",
   "execution_count": 7,
   "id": "ea93127a",
   "metadata": {},
   "outputs": [],
   "source": [
    "a = 20"
   ]
  },
  {
   "cell_type": "code",
   "execution_count": 9,
   "id": "fff74810",
   "metadata": {},
   "outputs": [
    {
     "name": "stdout",
     "output_type": "stream",
     "text": [
      "My Name is Nirav\n"
     ]
    }
   ],
   "source": [
    "a = 10\n",
    "if a < 15:\n",
    "    print('My Name is Nirav')"
   ]
  },
  {
   "cell_type": "code",
   "execution_count": 11,
   "id": "cfa57aed",
   "metadata": {},
   "outputs": [],
   "source": [
    "a = 10\n",
    "if a < 15:\n",
    "    pass\n",
    "else:\n",
    "    print('My Name is Nirav')"
   ]
  },
  {
   "cell_type": "code",
   "execution_count": 12,
   "id": "5c3e23ce",
   "metadata": {},
   "outputs": [
    {
     "name": "stdout",
     "output_type": "stream",
     "text": [
      "My Name is Nirav\n"
     ]
    }
   ],
   "source": [
    "a = 20\n",
    "if a < 15:\n",
    "    pass\n",
    "else:\n",
    "    print('My Name is Nirav')"
   ]
  },
  {
   "cell_type": "code",
   "execution_count": 16,
   "id": "e62465ec",
   "metadata": {},
   "outputs": [
    {
     "name": "stdout",
     "output_type": "stream",
     "text": [
      "Please enter your income:120\n",
      "I wont be able to buy anything\n"
     ]
    }
   ],
   "source": [
    "income = int(input('Please enter your income:'))\n",
    "if income < 50:\n",
    "    print('I will be able to buy phone')\n",
    "elif income < 70:\n",
    "    print('I will be able to buy car')\n",
    "elif income < 90:\n",
    "    print('I will be able to buy house')\n",
    "else :\n",
    "    print('I wont be able to buy anything')"
   ]
  },
  {
   "cell_type": "code",
   "execution_count": 20,
   "id": "76bc831e",
   "metadata": {},
   "outputs": [
    {
     "name": "stdout",
     "output_type": "stream",
     "text": [
      "7104\n",
      "No discount\n"
     ]
    }
   ],
   "source": [
    "Total_price = int(input())\n",
    "if Total_price > 20000 :\n",
    "    discount = Total_price * 0.20\n",
    "    print('Discount will be ', discount)\n",
    "elif Total_price <= 7000:\n",
    "    discount = Total_price * 0.05\n",
    "    print('Discount will be ', discount)\n",
    "else :\n",
    "    print('No discount')\n",
    "    "
   ]
  },
  {
   "cell_type": "code",
   "execution_count": 21,
   "id": "0be642ab",
   "metadata": {},
   "outputs": [],
   "source": [
    "## for loop ##"
   ]
  },
  {
   "cell_type": "code",
   "execution_count": 37,
   "id": "a97f705b",
   "metadata": {},
   "outputs": [
    {
     "name": "stdout",
     "output_type": "stream",
     "text": [
      "N <class 'str'>\n",
      "i <class 'str'>\n",
      "r <class 'str'>\n",
      "a <class 'str'>\n",
      "v <class 'str'>\n"
     ]
    }
   ],
   "source": [
    "s = \"Nirav\"\n",
    "for ch in s:\n",
    "    print (ch , type(ch))"
   ]
  },
  {
   "cell_type": "code",
   "execution_count": 23,
   "id": "947f88fd",
   "metadata": {},
   "outputs": [
    {
     "name": "stdout",
     "output_type": "stream",
     "text": [
      "1\n",
      "2\n",
      "3\n",
      "4\n",
      "5\n",
      "6\n",
      "7\n",
      "8\n",
      "9\n"
     ]
    }
   ],
   "source": [
    "list_obj = [1,2,3,4,5,6,7,8,9]\n",
    "for i in list_obj:\n",
    "    print(i)"
   ]
  },
  {
   "cell_type": "code",
   "execution_count": 24,
   "id": "be844da1",
   "metadata": {},
   "outputs": [
    {
     "name": "stdout",
     "output_type": "stream",
     "text": [
      "1\n",
      "2\n",
      "3\n",
      "4\n",
      "5\n",
      "6\n"
     ]
    }
   ],
   "source": [
    "tuples = (1,2,3,4,5,6)\n",
    "for i in tuples:\n",
    "    print(i)"
   ]
  },
  {
   "cell_type": "code",
   "execution_count": 27,
   "id": "856186e8",
   "metadata": {},
   "outputs": [
    {
     "name": "stdout",
     "output_type": "stream",
     "text": [
      "(1, 1)\n",
      "(1, 2)\n",
      "(1, 3)\n"
     ]
    }
   ],
   "source": [
    "list_tuple_obj = [(1,1),(1,2),(1,3)]\n",
    "for i in list_tuple_obj:\n",
    "     print(i)"
   ]
  },
  {
   "cell_type": "code",
   "execution_count": 4,
   "id": "ecd216f7",
   "metadata": {},
   "outputs": [
    {
     "name": "stdout",
     "output_type": "stream",
     "text": [
      "##### Ans 1 #####\n",
      "0 -> 2\n",
      "1 -> 2\n",
      "2 -> 4\n",
      "3 -> 5\n",
      "4 -> 78\n",
      "5 -> 12\n",
      "6 -> abcde\n",
      "7 -> (6+7j)\n",
      "8 -> [1, 2, 3, 4, 'ab']\n",
      "##### Another way for Ans 1 #####\n",
      "Index  0  for element  2\n",
      "Index  1  for element  2\n",
      "Index  2  for element  4\n",
      "Index  3  for element  5\n",
      "Index  4  for element  78\n",
      "Index  5  for element  12\n",
      "Index  6  for element  abcde\n",
      "Index  7  for element  (6+7j)\n",
      "Index  8  for element  [1, 2, 3, 4, 'ab']\n",
      "##### Ans 2 #####\n",
      "['a', 'b', 'c', 'd', 'e']\n",
      "##### Ans 3 #####\n",
      "[4, 4, 16, 25, 6084, 144]\n"
     ]
    }
   ],
   "source": [
    "l = [2,2,4,5,78,12,'abcde',6+7j,[1,2,3,4,'ab']]\n",
    "l1 = []\n",
    "l2 = []\n",
    "print('##### Ans 1 #####')\n",
    "for index in range(len(l)):\n",
    "    print(index,\"->\",  l[index])\n",
    "\n",
    "print('##### Another way for Ans 1 #####')\n",
    "for i,j in enumerate(l):\n",
    "    print('Index ',i,' for element ',j)\n",
    "    \n",
    "print('##### Ans 2 #####')\n",
    "for i in l:\n",
    "    if type(i)==str:\n",
    "        for j in i:\n",
    "            l2.append(j)\n",
    "print(l2)\n",
    "\n",
    "print('##### Ans 3 #####')\n",
    "for i in l:\n",
    "    if type(i)==int:\n",
    "        l1.append(i**2)\n",
    "print(l1)"
   ]
  },
  {
   "cell_type": "code",
   "execution_count": 5,
   "id": "bf2b2dc5",
   "metadata": {},
   "outputs": [],
   "source": [
    "## while loop ##"
   ]
  },
  {
   "cell_type": "code",
   "execution_count": 6,
   "id": "276af1d7",
   "metadata": {},
   "outputs": [
    {
     "name": "stdout",
     "output_type": "stream",
     "text": [
      "This is my speed\n",
      "This is my speed\n",
      "This is my speed\n",
      "This is my speed\n",
      "This is my speed\n",
      "This is my speed\n",
      "This is my speed\n",
      "This is my speed\n",
      "This is my speed\n",
      "This is my speed\n"
     ]
    }
   ],
   "source": [
    "initial_speed = 0\n",
    "final_speed = 100\n",
    "count = 0\n",
    "while initial_speed < final_speed:\n",
    "    print('This is my speed')\n",
    "    count = count + 1\n",
    "    if count == 10:\n",
    "        break"
   ]
  },
  {
   "cell_type": "code",
   "execution_count": 7,
   "id": "bbe511e1",
   "metadata": {},
   "outputs": [
    {
     "name": "stdout",
     "output_type": "stream",
     "text": [
      "1\n",
      "2\n",
      "3\n",
      "4\n",
      "No notes are available\n"
     ]
    }
   ],
   "source": [
    "notes = 5\n",
    "count = 1\n",
    "while count < notes:\n",
    "    print(count)\n",
    "    count+=1\n",
    "else :\n",
    "    print('No notes are available')"
   ]
  },
  {
   "cell_type": "code",
   "execution_count": 33,
   "id": "7a2f2669",
   "metadata": {},
   "outputs": [
    {
     "name": "stdout",
     "output_type": "stream",
     "text": [
      "Count is higher than usual...\n",
      "Count is higher than usual...\n",
      "Count is higher than usual...\n",
      "No notes are available\n"
     ]
    }
   ],
   "source": [
    "notes = 5\n",
    "count = 7\n",
    "while count < notes:\n",
    "    print(count)\n",
    "    count+=1\n",
    "else :\n",
    "    while count > notes and count < 10:\n",
    "        print('Count is higher than usual...')\n",
    "        count+=1\n",
    "    else:\n",
    "        print('No notes are available')"
   ]
  },
  {
   "cell_type": "code",
   "execution_count": 37,
   "id": "2422a4d2",
   "metadata": {},
   "outputs": [
    {
     "name": "stdout",
     "output_type": "stream",
     "text": [
      "* * * * \r\n",
      " * * * \r\n",
      "  * * \r\n",
      "   * \r\n",
      "    \r\n"
     ]
    }
   ],
   "source": [
    "row = 5\n",
    "for i in range(0, row):\n",
    "    for k in range (i, 0, -1):\n",
    "        print(end=\" \")\n",
    "    for j in range(row, i + 1, -1):\n",
    "        print(\"*\", end = \" \")\n",
    "    print(\"\\r\")"
   ]
  },
  {
   "cell_type": "code",
   "execution_count": 38,
   "id": "c4f1632b",
   "metadata": {},
   "outputs": [],
   "source": [
    "a='we all are a part of Full Stack'"
   ]
  },
  {
   "cell_type": "code",
   "execution_count": 43,
   "id": "4570ccb7",
   "metadata": {},
   "outputs": [
    {
     "name": "stdout",
     "output_type": "stream",
     "text": [
      "Ans for Question 1\n",
      "we all are a part of full stack\n",
      "Ans for Question 2\n",
      "Total occurance of \"a\" into string: 5\n",
      "Ans for Question 3\n",
      "Index of \"a\" apperance: [3, 7, 11, 14, 28]\n",
      "And for question 4\n",
      "Modified string:  we iNeuronll iNeuronre iNeuron piNeuronrt of Full StiNeuronck\n",
      "And for question 5\n",
      "['we', 'all', 'are', 'a', 'part', 'of', 'Full', 'Stack']\n"
     ]
    }
   ],
   "source": [
    "print('Ans for Question 1')\n",
    "lowercase_str = a.lower()\n",
    "print(lowercase_str)\n",
    "\n",
    "print('Ans for Question 2')\n",
    "count_of_a_appearance = a.count('a')\n",
    "print('Total occurance of \"a\" into string:',count_of_a_appearance)\n",
    "\n",
    "print('Ans for Question 3')\n",
    "index_of_a = []\n",
    "for i in range(0,len(a)):\n",
    "    if a[i] == 'a':\n",
    "        index_of_a.append(i)\n",
    "print('Index of \"a\" apperance:', index_of_a)\n",
    "\n",
    "print('And for question 4')\n",
    "replacement_str = 'iNeuron'\n",
    "modified_str = a.replace('a', replacement_str)\n",
    "print('Modified string: ', modified_str)\n",
    "\n",
    "print('And for question 5')\n",
    "print(a.split())"
   ]
  },
  {
   "cell_type": "code",
   "execution_count": 63,
   "id": "37035a5d",
   "metadata": {},
   "outputs": [
    {
     "name": "stdout",
     "output_type": "stream",
     "text": [
      "* \r\n",
      "* * \r\n",
      "* * * \r\n",
      "* * * * \r\n",
      "* * * * * \r\n"
     ]
    }
   ],
   "source": [
    "row = 5\n",
    "for i in range(0, row):\n",
    "    for j in range(0, i+1, 1):\n",
    "        print(\"* \", end = \"\")\n",
    "    print(\"\\r\")"
   ]
  },
  {
   "cell_type": "code",
   "execution_count": 47,
   "id": "c00bc250",
   "metadata": {},
   "outputs": [
    {
     "data": {
      "text/plain": [
       "[]"
      ]
     },
     "execution_count": 47,
     "metadata": {},
     "output_type": "execute_result"
    }
   ],
   "source": [
    "list(range(3,10,-1))"
   ]
  },
  {
   "cell_type": "code",
   "execution_count": 48,
   "id": "d1bd8ae5",
   "metadata": {},
   "outputs": [
    {
     "data": {
      "text/plain": [
       "[10, 9, 8, 7]"
      ]
     },
     "execution_count": 48,
     "metadata": {},
     "output_type": "execute_result"
    }
   ],
   "source": [
    "list(range(10,6,-1))"
   ]
  },
  {
   "cell_type": "code",
   "execution_count": 49,
   "id": "7bc3b6da",
   "metadata": {},
   "outputs": [
    {
     "data": {
      "text/plain": [
       "[10, 8, 6, 4, 2, 0, -2, -4]"
      ]
     },
     "execution_count": 49,
     "metadata": {},
     "output_type": "execute_result"
    }
   ],
   "source": [
    "list(range(10,-5,-2))"
   ]
  },
  {
   "cell_type": "code",
   "execution_count": 66,
   "id": "0f6d1477",
   "metadata": {},
   "outputs": [
    {
     "name": "stdout",
     "output_type": "stream",
     "text": [
      "C:\\some\\name\n"
     ]
    }
   ],
   "source": [
    "print(r'C:\\some\\name')"
   ]
  },
  {
   "cell_type": "code",
   "execution_count": 67,
   "id": "017bd932",
   "metadata": {},
   "outputs": [],
   "source": [
    "t = (1,2,4)"
   ]
  },
  {
   "cell_type": "code",
   "execution_count": 68,
   "id": "62fcc2fa",
   "metadata": {},
   "outputs": [
    {
     "data": {
      "text/plain": [
       "(4, 2, 1)"
      ]
     },
     "execution_count": 68,
     "metadata": {},
     "output_type": "execute_result"
    }
   ],
   "source": [
    "t[::-1]"
   ]
  },
  {
   "cell_type": "code",
   "execution_count": 74,
   "id": "3db92269",
   "metadata": {},
   "outputs": [
    {
     "name": "stdout",
     "output_type": "stream",
     "text": [
      "4\n",
      "2\n",
      "1\n"
     ]
    }
   ],
   "source": [
    "for i in range(len(t)-1, -1, -1):\n",
    "    print(t[i])"
   ]
  },
  {
   "cell_type": "code",
   "execution_count": 75,
   "id": "a34e1714",
   "metadata": {},
   "outputs": [],
   "source": [
    "d = {\"a\": \"asad\", \"b\":\"cvsdv\", \"c\":[1,2,3,4], \"d\":(4,5,6), \"e\":\"sudh\"}"
   ]
  },
  {
   "cell_type": "code",
   "execution_count": 78,
   "id": "741a04fe",
   "metadata": {},
   "outputs": [
    {
     "name": "stdout",
     "output_type": "stream",
     "text": [
      "a asad\n",
      "b cvsdv\n",
      "c [1, 2, 3, 4]\n",
      "d (4, 5, 6)\n",
      "e sudh\n"
     ]
    }
   ],
   "source": [
    "for i in d:\n",
    "    print(i, d[i])\n"
   ]
  },
  {
   "cell_type": "code",
   "execution_count": 79,
   "id": "2e0ad14c",
   "metadata": {},
   "outputs": [
    {
     "name": "stdout",
     "output_type": "stream",
     "text": [
      "1\n",
      "2\n",
      "3\n"
     ]
    }
   ],
   "source": [
    "s = {1,2,3}\n",
    "for i in s:\n",
    "    print(i)"
   ]
  },
  {
   "cell_type": "code",
   "execution_count": 80,
   "id": "cc58d764",
   "metadata": {},
   "outputs": [
    {
     "data": {
      "text/plain": [
       "3"
      ]
     },
     "execution_count": 80,
     "metadata": {},
     "output_type": "execute_result"
    }
   ],
   "source": [
    "len(s)"
   ]
  },
  {
   "cell_type": "code",
   "execution_count": 82,
   "id": "b52e7971",
   "metadata": {},
   "outputs": [
    {
     "name": "stdout",
     "output_type": "stream",
     "text": [
      "1\n",
      "2\n",
      "3\n"
     ]
    }
   ],
   "source": [
    "count = len(s)\n",
    "while count > 0 :\n",
    "    print(s.pop())\n",
    "    count-=1"
   ]
  },
  {
   "cell_type": "code",
   "execution_count": 84,
   "id": "cf188025",
   "metadata": {},
   "outputs": [
    {
     "data": {
      "text/plain": [
       "23"
      ]
     },
     "execution_count": 84,
     "metadata": {},
     "output_type": "execute_result"
    }
   ],
   "source": [
    "bacon = 22\n",
    "bacon + 1"
   ]
  },
  {
   "cell_type": "code",
   "execution_count": 85,
   "id": "169e3c84",
   "metadata": {},
   "outputs": [
    {
     "data": {
      "text/plain": [
       "'spamspamspam'"
      ]
     },
     "execution_count": 85,
     "metadata": {},
     "output_type": "execute_result"
    }
   ],
   "source": [
    "'spam' + 'spamspam'"
   ]
  },
  {
   "cell_type": "code",
   "execution_count": 86,
   "id": "d94dc274",
   "metadata": {},
   "outputs": [
    {
     "data": {
      "text/plain": [
       "'spamspamspam'"
      ]
     },
     "execution_count": 86,
     "metadata": {},
     "output_type": "execute_result"
    }
   ],
   "source": [
    "'spam' * 3"
   ]
  },
  {
   "cell_type": "code",
   "execution_count": 87,
   "id": "3d5924d1",
   "metadata": {},
   "outputs": [
    {
     "data": {
      "text/plain": [
       "10.2"
      ]
     },
     "execution_count": 87,
     "metadata": {},
     "output_type": "execute_result"
    }
   ],
   "source": [
    "float(10.2)"
   ]
  },
  {
   "cell_type": "code",
   "execution_count": 88,
   "id": "6f9a1131",
   "metadata": {},
   "outputs": [
    {
     "data": {
      "text/plain": [
       "'10'"
      ]
     },
     "execution_count": 88,
     "metadata": {},
     "output_type": "execute_result"
    }
   ],
   "source": [
    "str(10)"
   ]
  },
  {
   "cell_type": "code",
   "execution_count": 89,
   "id": "36fe6ced",
   "metadata": {},
   "outputs": [
    {
     "ename": "TypeError",
     "evalue": "can only concatenate str (not \"int\") to str",
     "output_type": "error",
     "traceback": [
      "\u001b[1;31m---------------------------------------------------------------------------\u001b[0m",
      "\u001b[1;31mTypeError\u001b[0m                                 Traceback (most recent call last)",
      "\u001b[1;32m~\\AppData\\Local\\Temp/ipykernel_18500/2733022945.py\u001b[0m in \u001b[0;36m<module>\u001b[1;34m\u001b[0m\n\u001b[1;32m----> 1\u001b[1;33m \u001b[1;34m'I have eaten'\u001b[0m \u001b[1;33m+\u001b[0m \u001b[1;36m99\u001b[0m \u001b[1;33m+\u001b[0m \u001b[1;34m'burritos'\u001b[0m\u001b[1;33m\u001b[0m\u001b[1;33m\u001b[0m\u001b[0m\n\u001b[0m",
      "\u001b[1;31mTypeError\u001b[0m: can only concatenate str (not \"int\") to str"
     ]
    }
   ],
   "source": [
    "'I have eaten' + 99 + 'burritos'"
   ]
  },
  {
   "cell_type": "code",
   "execution_count": 1,
   "id": "df7210c7",
   "metadata": {},
   "outputs": [
    {
     "name": "stdout",
     "output_type": "stream",
     "text": [
      "26\n"
     ]
    }
   ],
   "source": [
    "count = 0\n",
    "s = \"this is python basic class\"\n",
    "for i in s:\n",
    "    count += 1\n",
    "print(count)"
   ]
  },
  {
   "cell_type": "code",
   "execution_count": 4,
   "id": "c72db4f6",
   "metadata": {},
   "outputs": [
    {
     "name": "stdout",
     "output_type": "stream",
     "text": [
      "s\n",
      "s\n",
      "a\n",
      "l\n",
      "c\n",
      " \n",
      "c\n",
      "i\n",
      "s\n",
      "a\n",
      "b\n",
      " \n",
      "n\n",
      "o\n",
      "h\n",
      "t\n",
      "y\n",
      "p\n",
      " \n",
      "s\n",
      "i\n",
      " \n",
      "s\n",
      "i\n",
      "h\n",
      "t\n"
     ]
    }
   ],
   "source": [
    "for i in range(len(s) - 1, -1 , -1):\n",
    "    print(s[i])"
   ]
  },
  {
   "cell_type": "code",
   "execution_count": 6,
   "id": "6d3fb94e",
   "metadata": {},
   "outputs": [
    {
     "name": "stdout",
     "output_type": "stream",
     "text": [
      "s\n",
      "s\n",
      "a\n",
      "l\n",
      "c\n",
      " \n",
      "c\n",
      "i\n",
      "s\n",
      "a\n",
      "b\n",
      " \n",
      "n\n",
      "o\n",
      "h\n",
      "t\n",
      "y\n",
      "p\n",
      " \n",
      "s\n",
      "i\n",
      " \n",
      "s\n",
      "i\n",
      "h\n",
      "t\n"
     ]
    }
   ],
   "source": [
    "count = len(s) - 1\n",
    "while count >= 0:\n",
    "    print(s[count])\n",
    "    count -= 1"
   ]
  },
  {
   "cell_type": "code",
   "execution_count": 9,
   "id": "7a64b5ad",
   "metadata": {},
   "outputs": [
    {
     "name": "stdout",
     "output_type": "stream",
     "text": [
      "vowel: i\n",
      "consonant: N\n",
      "vowel: e\n",
      "vowel: u\n",
      "consonant: r\n",
      "vowel: o\n",
      "consonant: n\n"
     ]
    }
   ],
   "source": [
    "s = 'iNeuron'\n",
    "vowel = 'AaEeIiOoUu'\n",
    "for i in range(len(s)):\n",
    "    if s[i] in vowel:\n",
    "        print('vowel:',s[i])\n",
    "    else:\n",
    "        print('consonant:',s[i])"
   ]
  },
  {
   "cell_type": "code",
   "execution_count": 10,
   "id": "2f627275",
   "metadata": {},
   "outputs": [
    {
     "data": {
      "text/plain": [
       "False"
      ]
     },
     "execution_count": 10,
     "metadata": {},
     "output_type": "execute_result"
    }
   ],
   "source": [
    "s in 'su'"
   ]
  },
  {
   "cell_type": "code",
   "execution_count": 15,
   "id": "bc72b648",
   "metadata": {},
   "outputs": [
    {
     "name": "stdout",
     "output_type": "stream",
     "text": [
      "Please enter txt:mom\n",
      "<reversed object at 0x0000025427B5B6D0>\n",
      "not palindrom\n"
     ]
    }
   ],
   "source": [
    "s = input('Please enter txt:')\n",
    "rs = s[::-1]\n",
    "if s == rs:\n",
    "    print('Palindrom')\n",
    "else:\n",
    "    print('not palindrom')"
   ]
  },
  {
   "cell_type": "code",
   "execution_count": 24,
   "id": "d3c04667",
   "metadata": {},
   "outputs": [
    {
     "name": "stdout",
     "output_type": "stream",
     "text": [
      "Palindrom\n"
     ]
    }
   ],
   "source": [
    "word = ',madam,'\n",
    "flag = True\n",
    "for i in range(len(word)):\n",
    "    if word[i] != word[len(word) - i - 1]:\n",
    "        flag = False\n",
    "        break\n",
    "    else:\n",
    "        continue\n",
    "        \n",
    "print('Palindrom') if flag else print('Not Palindrom')\n"
   ]
  },
  {
   "cell_type": "code",
   "execution_count": 25,
   "id": "453c9e23",
   "metadata": {},
   "outputs": [],
   "source": [
    "d = {'india':'IN', 'canada':'CA', 'china':'CH', 'United States': 'US'}"
   ]
  },
  {
   "cell_type": "code",
   "execution_count": 26,
   "id": "43129471",
   "metadata": {},
   "outputs": [
    {
     "data": {
      "text/plain": [
       "{'india': 'IN', 'canada': 'CA', 'china': 'CH', 'United States': 'US'}"
      ]
     },
     "execution_count": 26,
     "metadata": {},
     "output_type": "execute_result"
    }
   ],
   "source": [
    "d"
   ]
  },
  {
   "cell_type": "code",
   "execution_count": 28,
   "id": "0dcff512",
   "metadata": {},
   "outputs": [
    {
     "data": {
      "text/plain": [
       "list[{'india': 'IN', 'canada': 'CA', 'china': 'CH', 'United States': 'US'}]"
      ]
     },
     "execution_count": 28,
     "metadata": {},
     "output_type": "execute_result"
    }
   ],
   "source": [
    "list[d]"
   ]
  },
  {
   "cell_type": "code",
   "execution_count": 29,
   "id": "586f0a98",
   "metadata": {},
   "outputs": [
    {
     "data": {
      "text/plain": [
       "['india', 'canada', 'china', 'United States']"
      ]
     },
     "execution_count": 29,
     "metadata": {},
     "output_type": "execute_result"
    }
   ],
   "source": [
    "list(d)"
   ]
  },
  {
   "cell_type": "code",
   "execution_count": 32,
   "id": "8a73adfb",
   "metadata": {},
   "outputs": [
    {
     "ename": "ValueError",
     "evalue": "'france' is not in list",
     "output_type": "error",
     "traceback": [
      "\u001b[1;31m---------------------------------------------------------------------------\u001b[0m",
      "\u001b[1;31mValueError\u001b[0m                                Traceback (most recent call last)",
      "\u001b[1;32m~\\AppData\\Local\\Temp/ipykernel_2068/2669227368.py\u001b[0m in \u001b[0;36m<module>\u001b[1;34m\u001b[0m\n\u001b[1;32m----> 1\u001b[1;33m \u001b[0mlist\u001b[0m\u001b[1;33m(\u001b[0m\u001b[0md\u001b[0m\u001b[1;33m)\u001b[0m\u001b[1;33m.\u001b[0m\u001b[0mindex\u001b[0m\u001b[1;33m(\u001b[0m\u001b[1;34m'france'\u001b[0m\u001b[1;33m)\u001b[0m\u001b[1;33m\u001b[0m\u001b[1;33m\u001b[0m\u001b[0m\n\u001b[0m",
      "\u001b[1;31mValueError\u001b[0m: 'france' is not in list"
     ]
    }
   ],
   "source": [
    "list(d).index('france')"
   ]
  },
  {
   "cell_type": "code",
   "execution_count": 33,
   "id": "c5b35c17",
   "metadata": {},
   "outputs": [
    {
     "data": {
      "text/plain": [
       "True"
      ]
     },
     "execution_count": 33,
     "metadata": {},
     "output_type": "execute_result"
    }
   ],
   "source": [
    "'india' in d"
   ]
  },
  {
   "cell_type": "code",
   "execution_count": 43,
   "id": "2764fc54",
   "metadata": {},
   "outputs": [
    {
     "name": "stdout",
     "output_type": "stream",
     "text": [
      "<=5  ['india', 'china']\n",
      ">5  ['canada', 'United States']\n"
     ]
    }
   ],
   "source": [
    "l1 = []\n",
    "l2 = []\n",
    "for i in d:\n",
    "    l1.append(i) if len(i) <= 5 else l2.append(i)\n",
    "\n",
    "print('<=5 ', l1)\n",
    "print('>5 ', l2)"
   ]
  },
  {
   "cell_type": "code",
   "execution_count": 45,
   "id": "8901570a",
   "metadata": {},
   "outputs": [
    {
     "name": "stdout",
     "output_type": "stream",
     "text": [
      "<5  ['U', 'n', 'i', 't', 'e', 'd', ' ', 'S', 't', 'a', 't', 'e', 's']\n",
      ">5  []\n"
     ]
    }
   ],
   "source": [
    "l = d.values()\n",
    "l1 = []\n",
    "l2 = []\n",
    "for i in i:\n",
    "    if len(i) < 5:\n",
    "        l1.append(i)\n",
    "    else:\n",
    "        l2.append(i)\n",
    "\n",
    "print('<5 ', l1)\n",
    "print('>5 ', l2)"
   ]
  },
  {
   "cell_type": "code",
   "execution_count": 46,
   "id": "b7d9a9bb",
   "metadata": {},
   "outputs": [
    {
     "data": {
      "text/plain": [
       "dict_values(['IN', 'CA', 'CH', 'US'])"
      ]
     },
     "execution_count": 46,
     "metadata": {},
     "output_type": "execute_result"
    }
   ],
   "source": [
    "d.values()"
   ]
  },
  {
   "cell_type": "code",
   "execution_count": 48,
   "id": "bf6c5c96",
   "metadata": {},
   "outputs": [],
   "source": [
    "d_1 = {\n",
    "        'ineuron': {'a':14, 'b': 10, 'c': 4},'course':{'d':45, 'e': 34, 'f': 1 }\n",
    "}"
   ]
  },
  {
   "cell_type": "code",
   "execution_count": 49,
   "id": "19f699ee",
   "metadata": {},
   "outputs": [
    {
     "data": {
      "text/plain": [
       "['ineuron', 'course']"
      ]
     },
     "execution_count": 49,
     "metadata": {},
     "output_type": "execute_result"
    }
   ],
   "source": [
    "list(d_1)"
   ]
  },
  {
   "cell_type": "code",
   "execution_count": 59,
   "id": "77e29924",
   "metadata": {},
   "outputs": [
    {
     "data": {
      "text/plain": [
       "dict_values([{'a': 14, 'b': 10, 'c': 4}, {'d': 45, 'e': 34, 'f': 1}])"
      ]
     },
     "execution_count": 59,
     "metadata": {},
     "output_type": "execute_result"
    }
   ],
   "source": [
    "d_1.values()"
   ]
  },
  {
   "cell_type": "code",
   "execution_count": 63,
   "id": "1192b57f",
   "metadata": {},
   "outputs": [
    {
     "name": "stdout",
     "output_type": "stream",
     "text": [
      "############ One way ################\n",
      "[14, 45]\n",
      "############ Another way ################\n",
      "14\n",
      "45\n",
      "############ Another way using key ################\n",
      "14\n",
      "45\n"
     ]
    }
   ],
   "source": [
    "print('############ One way ################')\n",
    "md = d_1.values()\n",
    "maxValue = []\n",
    "for d in md:\n",
    "    maxValue.append(max(d.values()))\n",
    "print(maxValue)\n",
    "\n",
    "print('############ Another way ################')\n",
    "for i in d_1.values():\n",
    "    print(max(i.values()))\n",
    "    \n",
    "print('############ Another way using key ################')    \n",
    "for i in d_1.keys():\n",
    "    print(max(d_1[i].values()))"
   ]
  },
  {
   "cell_type": "code",
   "execution_count": 110,
   "id": "b0b646eb",
   "metadata": {},
   "outputs": [],
   "source": [
    "d_1 = {\n",
    "        'ineuron': {'a':14, 'b': 10, 'c': 4, 'd':99999999, 'e':1+8j, 'f':99999999.66568},'course':{'d':45, 'e': 34, 'f': 1 },\n",
    "        'g':1+8j, 'h':[45,6,7,8,9,3,9999,1+8j], 'i':(45,3,2,9080899, 1+8j), 'k':'sudh'\n",
    "}"
   ]
  },
  {
   "cell_type": "code",
   "execution_count": 67,
   "id": "44de3733",
   "metadata": {},
   "outputs": [
    {
     "data": {
      "text/plain": [
       "{'ineuron': {'a': 14, 'b': 10, 'c': 4},\n",
       " 'course': {'d': 45, 'e': 34, 'f': 1},\n",
       " 'g': 34,\n",
       " 'h': [45, 6, 7, 8, 9, 3],\n",
       " 'i': (45, 3, 2),\n",
       " 'k': 'sudh'}"
      ]
     },
     "execution_count": 67,
     "metadata": {},
     "output_type": "execute_result"
    }
   ],
   "source": [
    "d_1"
   ]
  },
  {
   "cell_type": "code",
   "execution_count": 112,
   "id": "fe76ba98",
   "metadata": {},
   "outputs": [
    {
     "name": "stdout",
     "output_type": "stream",
     "text": [
      "99999999.66568\n"
     ]
    }
   ],
   "source": [
    "maxValue = []\n",
    "for d in d_1.values():\n",
    "    if type(d) == dict :\n",
    "        for i in d.values():\n",
    "            if type(i) == int or type(i) == float:\n",
    "                maxValue.append(i)\n",
    "    elif type(d) == int :\n",
    "        maxValue.append(d)\n",
    "    elif type(d) == list or type(d) == tuple:\n",
    "        for i in d:\n",
    "            if type(i) == int or type(i) == float:\n",
    "                maxValue.append(i)\n",
    "print(max(set(maxValue)))"
   ]
  },
  {
   "cell_type": "code",
   "execution_count": null,
   "id": "9b2ef3dc",
   "metadata": {},
   "outputs": [],
   "source": []
  }
 ],
 "metadata": {
  "kernelspec": {
   "display_name": "Python 3 (ipykernel)",
   "language": "python",
   "name": "python3"
  },
  "language_info": {
   "codemirror_mode": {
    "name": "ipython",
    "version": 3
   },
   "file_extension": ".py",
   "mimetype": "text/x-python",
   "name": "python",
   "nbconvert_exporter": "python",
   "pygments_lexer": "ipython3",
   "version": "3.9.7"
  }
 },
 "nbformat": 4,
 "nbformat_minor": 5
}
