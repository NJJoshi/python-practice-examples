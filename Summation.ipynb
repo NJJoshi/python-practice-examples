{
 "cells": [
  {
   "cell_type": "markdown",
   "id": "877669ef",
   "metadata": {},
   "source": [
    "# Sum of two different numbers\n",
    "## Get input from user , validate them and provide sum of two numbers"
   ]
  },
  {
   "cell_type": "code",
   "execution_count": 2,
   "id": "01689d2f",
   "metadata": {},
   "outputs": [
    {
     "name": "stdout",
     "output_type": "stream",
     "text": [
      "Provide first number:12\n",
      "Provide second number:12\n",
      "Result: 24\n"
     ]
    }
   ],
   "source": [
    "# Take First input and validate that it shouldn't be empty & non numeric value\n",
    "a=input('Provide first number:')\n",
    "try:\n",
    "    while not a:\n",
    "        a=input('Provide provide valid first number:')\n",
    "    a=int(float(a))\n",
    "except ValueError:\n",
    "    print(\"Provide value is not a valid numeric/floating number value.\")\n",
    "\n",
    "# Take Second input and validate that it shouldn't be empty & non numeric value    \n",
    "b=input('Provide second number:')\n",
    "try:\n",
    "    while not b:\n",
    "        b=input('Provide provide valid second number:')\n",
    "    b=int(float(b))\n",
    "except ValueError:\n",
    "    print(\"Provide value is not a valid numeric/floating number value.\")\n",
    "\n",
    "# Apply summation for both provided value    \n",
    "result= a + b\n",
    "print('Result: {}'.format(result))"
   ]
  },
  {
   "cell_type": "code",
   "execution_count": null,
   "id": "11430d3c",
   "metadata": {},
   "outputs": [],
   "source": []
  }
 ],
 "metadata": {
  "kernelspec": {
   "display_name": "Python 3 (ipykernel)",
   "language": "python",
   "name": "python3"
  },
  "language_info": {
   "codemirror_mode": {
    "name": "ipython",
    "version": 3
   },
   "file_extension": ".py",
   "mimetype": "text/x-python",
   "name": "python",
   "nbconvert_exporter": "python",
   "pygments_lexer": "ipython3",
   "version": "3.9.7"
  }
 },
 "nbformat": 4,
 "nbformat_minor": 5
}
