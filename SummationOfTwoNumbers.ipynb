{
 "cells": [
  {
   "cell_type": "code",
   "execution_count": 2,
   "id": "61aeee3a",
   "metadata": {},
   "outputs": [
    {
     "name": "stdout",
     "output_type": "stream",
     "text": [
      "Please provide first number:12.2\n",
      "Please provide second number:12.222\n",
      "Summation result: 24\n"
     ]
    }
   ],
   "source": [
    "# Take First number from user and validate it \n",
    "a = input('Please provide first number:')\n",
    "try:\n",
    "    while not a:\n",
    "      a = input('Please provide valid first number:')\n",
    "    a = int(float(a))\n",
    "except ValueError:\n",
    "    print('Invalid value provided')\n",
    "\n",
    "# Take Second number from user and validate it \n",
    "b = input('Please provide second number:')\n",
    "try:\n",
    "    while not b:\n",
    "      b = input('Please provide valid second number:')\n",
    "    b = int(float(a))\n",
    "except ValueError:\n",
    "    print('Invalid value provided')\n",
    "    \n",
    "#Add two numbers and print final result\n",
    "result = a + b\n",
    "print('Summation result: {}'.format(result))"
   ]
  },
  {
   "cell_type": "code",
   "execution_count": null,
   "id": "97849869",
   "metadata": {},
   "outputs": [],
   "source": []
  }
 ],
 "metadata": {
  "kernelspec": {
   "display_name": "Python 3 (ipykernel)",
   "language": "python",
   "name": "python3"
  },
  "language_info": {
   "codemirror_mode": {
    "name": "ipython",
    "version": 3
   },
   "file_extension": ".py",
   "mimetype": "text/x-python",
   "name": "python",
   "nbconvert_exporter": "python",
   "pygments_lexer": "ipython3",
   "version": "3.9.7"
  }
 },
 "nbformat": 4,
 "nbformat_minor": 5
}
