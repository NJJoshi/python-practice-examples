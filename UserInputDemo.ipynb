{
 "cells": [
  {
   "cell_type": "code",
   "execution_count": 3,
   "id": "3f512d29",
   "metadata": {},
   "outputs": [
    {
     "name": "stdout",
     "output_type": "stream",
     "text": [
      "Enter number 1:12\n",
      "Enter number 2:12\n",
      "Select operation which we want to perform on provided numbers\n",
      "1 - Addition\n",
      "2 - Subtraction\n",
      "3 - Multiplication\n",
      "4 - Division\n",
      "Please provide your choice:1\n",
      "final result is :24\n"
     ]
    }
   ],
   "source": [
    "def perform_operation(num1, num2, choice):\n",
    "    final_result = 0\n",
    "    if choice == 1:\n",
    "        final_result = num1 + num2\n",
    "    elif choice == 2:\n",
    "        final_result = num1 - num2\n",
    "    elif choice == 3:\n",
    "        final_result = num1 * num2\n",
    "    elif choice == 4:\n",
    "        final_result = num1/num2\n",
    "    else:\n",
    "        print('Invalid choice provided')\n",
    "    return final_result\n",
    "\n",
    "number1 = int(input('Enter number 1:'))\n",
    "number2 = int(input('Enter number 2:'))\n",
    "\n",
    "print('Select operation which we want to perform on provided numbers')\n",
    "print('1 - Addition')\n",
    "print('2 - Subtraction')\n",
    "print('3 - Multiplication')\n",
    "print('4 - Division')\n",
    "\n",
    "selectedOperation = int(input('Please provide your choice:'))\n",
    "print(f\"final result is :{perform_operation(number1, number2, selectedOperation)}\")\n"
   ]
  },
  {
   "cell_type": "code",
   "execution_count": null,
   "id": "c723db8c",
   "metadata": {},
   "outputs": [],
   "source": []
  }
 ],
 "metadata": {
  "kernelspec": {
   "display_name": "Python 3 (ipykernel)",
   "language": "python",
   "name": "python3"
  },
  "language_info": {
   "codemirror_mode": {
    "name": "ipython",
    "version": 3
   },
   "file_extension": ".py",
   "mimetype": "text/x-python",
   "name": "python",
   "nbconvert_exporter": "python",
   "pygments_lexer": "ipython3",
   "version": "3.9.7"
  }
 },
 "nbformat": 4,
 "nbformat_minor": 5
}
